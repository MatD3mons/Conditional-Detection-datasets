{
 "cells": [
  {
   "cell_type": "code",
   "execution_count": 1,
   "metadata": {},
   "outputs": [],
   "source": [
    "import xml.etree.ElementTree as ET\n",
    "from tqdm import tqdm\n",
    "from pathlib import Path\n",
    "from tqdm import tqdm\n",
    "import glob"
   ]
  },
  {
   "cell_type": "code",
   "execution_count": 2,
   "metadata": {},
   "outputs": [],
   "source": [
    "train_class_names = ['pottedplant', 'sofa', 'tvmonitor', 'car', 'bottle', 'boat', 'chair', 'person', 'bus', 'train', 'horse', 'bicycle', 'dog', 'bird', 'motorbike', 'diningtable']\n",
    "test_class_names = ['cow', 'sheep', 'cat', 'aeroplane']"
   ]
  },
  {
   "cell_type": "code",
   "execution_count": null,
   "metadata": {},
   "outputs": [],
   "source": [
    "import os\n",
    "\n",
    "paths = ['images',\n",
    "         'images/train',\n",
    "         'images/valid',\n",
    "         'images/test',\n",
    "         'labels',\n",
    "         'labels/train',\n",
    "         'labels/valid',\n",
    "         'labels/test',\n",
    "         'supports']\n",
    "\n",
    "for path in paths:\n",
    "    if not os.path.exists(path):\n",
    "        os.mkdir(path)\n",
    "\n",
    "for i in range(20):\n",
    "    if not os.path.exists('supports/'+str(i)):\n",
    "        os.mkdir('supports/'+str(i))    "
   ]
  },
  {
   "cell_type": "code",
   "execution_count": null,
   "metadata": {},
   "outputs": [],
   "source": [
    "# !wget https://github.com/ultralytics/yolov5/releases/download/v1.0/VOCtrainval_06-Nov-2007.zip -o 'VOCtrainval_06-Nov-2007.zip' # 446MB, 5012 images\n",
    "# !wget https://github.com/ultralytics/yolov5/releases/download/v1.0/VOCtest_06-Nov-2007.zip -o 'VOCtest_06-Nov-2007.zip' # 438MB, 4953 images\n",
    "# !wget https://github.com/ultralytics/yolov5/releases/download/v1.0/VOCtrainval_11-May-2012.zip -o 'VOCtrainval_11-May-2012.zip' # 1.95GB, 17126 images"
   ]
  },
  {
   "cell_type": "code",
   "execution_count": null,
   "metadata": {},
   "outputs": [],
   "source": [
    "# !unzip 'VOCtrainval_06-Nov-2007.zip.1'\n",
    "# !unzip 'VOCtest_06-Nov-2007.zip.1'\n",
    "# !unzip 'VOCtrainval_11-May-2012.zip.1'"
   ]
  },
  {
   "cell_type": "code",
   "execution_count": null,
   "metadata": {},
   "outputs": [],
   "source": [
    "# !rm 'VOCtrainval_06-Nov-2007.zip.1'\n",
    "# !rm 'VOCtest_06-Nov-2007.zip.1'\n",
    "# !rm 'VOCtrainval_11-May-2012.zip.1'"
   ]
  },
  {
   "cell_type": "code",
   "execution_count": null,
   "metadata": {},
   "outputs": [],
   "source": [
    "# Classes\n",
    "\n",
    "\n",
    "def convert_box(size, box):\n",
    "    dw, dh = 1. / size[0], 1. / size[1]\n",
    "    x, y, w, h = (box[0] + box[1]) / 2.0 - 1, (box[2] + box[3]) / 2.0 - 1, box[1] - box[0], box[3] - box[2]\n",
    "    return x * dw, y * dh, w * dw, h * dh\n",
    "\n",
    "names = {\n",
    "    0: 'aeroplane',\n",
    "    1: 'bicycle',\n",
    "    2: 'bird',\n",
    "    3: 'boat',\n",
    "    4: 'bottle',\n",
    "    5: 'bus',\n",
    "    6: 'car',\n",
    "    7: 'cat',\n",
    "    8: 'chair',\n",
    "    9: 'cow',\n",
    "    10: 'diningtable',\n",
    "    11: 'dog',\n",
    "    12: 'horse',\n",
    "    13: 'motorbike',\n",
    "    14: 'person',\n",
    "    15: 'pottedplant',\n",
    "    16: 'sheep',\n",
    "    17: 'sofa',\n",
    "    18: 'train',\n",
    "    19: 'tvmonitor',\n",
    "}\n",
    "\n",
    "from PIL import Image, ImageOps\n",
    "\n",
    "def resize_with_padding(img, expected_size, colors=(114,114,114)):\n",
    "    width, height = img.size\n",
    "    ratio = width / height\n",
    "    if width < height:\n",
    "        img = img.resize((int(ratio*expected_size[0]),int(expected_size[0])))\n",
    "    else:\n",
    "        img = img.resize((int(expected_size[1]),int((1/ratio)*expected_size[1])))\n",
    "        \n",
    "    img.thumbnail((expected_size[0], expected_size[1]))\n",
    "    delta_width = expected_size[0] - img.size[0]\n",
    "    delta_height = expected_size[1] - img.size[1]\n",
    "    pad_width = delta_width // 2\n",
    "    pad_height = delta_height // 2\n",
    "    padding = (pad_width, pad_height, delta_width - pad_width, delta_height - pad_height)\n",
    "    return ImageOps.expand(img, padding, colors)\n",
    "\n",
    "support_imgs = {i:0 for i in range(20)}\n",
    "\n",
    "def resize_label_with_padding(old_size, expected_size, bbox):\n",
    "    (x,y,w,h) = bbox\n",
    "\n",
    "    ratio = old_size[0] / old_size[1]\n",
    "    if old_size[0] < old_size[1]:\n",
    "        new = (int(ratio*expected_size[0]),int(expected_size[0]))\n",
    "    else:\n",
    "        new = (int(expected_size[1]),int((1/ratio)*expected_size[1]))\n",
    "\n",
    "    delta_width = expected_size[0] - new[0]\n",
    "    delta_height = expected_size[1] - new[1]\n",
    "\n",
    "    pad_width = delta_width // 2\n",
    "    pad_height = delta_height // 2\n",
    "\n",
    "    x_t = (pad_width +  (x)*new[0]) / expected_size[0]\n",
    "    y_t = (pad_height + (y)*new[1]) / expected_size[1]\n",
    "    w_t = w*new[0] / expected_size[0]\n",
    "    h_t = h*new[1] / expected_size[1]\n",
    "    \n",
    "    return x_t,y_t,w_t,h_t\n",
    "\n",
    "def convert_label(image, path, lb_path, year, image_id, classes):\n",
    "    in_file = open(path / f'VOC{year}/Annotations/{image_id}.xml')\n",
    "    tree = ET.parse(in_file)\n",
    "    root = tree.getroot()\n",
    "    size = root.find('size')\n",
    "    w = int(size.find('width').text)\n",
    "    h = int(size.find('height').text)\n",
    "\n",
    "    name = list(names.values())  # names list\n",
    "    good = False\n",
    "    for obj in root.iter('object'):\n",
    "        cls = obj.find('name').text\n",
    "        cls_id = name.index(cls)  # class id\n",
    "        if cls_id in classes and cls in name:# and int(obj.find('difficult').text) != 1: #OK ??\n",
    "            xmlbox = obj.find('bndbox')\n",
    "            x1, x2, y1, y2 = [float(xmlbox.find(x).text) for x in ('xmin', 'xmax', 'ymin', 'ymax')]\n",
    "            img = image.crop((x1,y1,x2,y2))\n",
    "            img = resize_with_padding(img, (160,160), (0,0,0))\n",
    "            img.save('supports/'+str(cls_id)+'/'+str(support_imgs[cls_id])+'.png')\n",
    "            support_imgs[cls_id] = support_imgs[cls_id] + 1\n",
    "            bb = convert_box((w, h), [float(xmlbox.find(x).text) for x in ('xmin', 'xmax', 'ymin', 'ymax')])\n",
    "            bb = resize_label_with_padding((w,h), (640,640), bb)\n",
    "            with open(lb_path, 'a') as file:\n",
    "                file.write(\" \".join(str(a) for a in (cls_id, *bb)) + '\\n')\n",
    "            good = True\n",
    "    return good"
   ]
  },
  {
   "cell_type": "code",
   "execution_count": null,
   "metadata": {},
   "outputs": [
    {
     "name": "stderr",
     "output_type": "stream",
     "text": [
      "train2012:   0%|          | 0/5717 [00:00<?, ?it/s]"
     ]
    },
    {
     "name": "stderr",
     "output_type": "stream",
     "text": [
      "train2012: 100%|██████████| 5717/5717 [13:08<00:00,  7.25it/s]\n",
      "val2012: 100%|██████████| 5823/5823 [13:15<00:00,  7.32it/s]\n",
      "train2007: 100%|██████████| 2501/2501 [06:05<00:00,  6.85it/s]\n",
      "val2007: 100%|██████████| 2510/2510 [05:59<00:00,  6.98it/s]\n",
      "test2007: 100%|██████████| 4952/4952 [01:56<00:00, 42.35it/s] \n"
     ]
    }
   ],
   "source": [
    "# Convert\n",
    "path = Path('VOCdevkit')\n",
    "\n",
    "for year, image_set in ('2012', 'train'), ('2012', 'val'), ('2007', 'train'), ('2007', 'val'), ('2007', 'test'):\n",
    "    imgs_path = Path('images')\n",
    "    lbs_path = Path('labels')\n",
    "\n",
    "    with open(path / f'VOC{year}/ImageSets/Main/{image_set}.txt') as f:\n",
    "        image_ids = f.read().strip().split()\n",
    "\n",
    "    for id in tqdm(image_ids, desc=f'{image_set}{year}'):\n",
    "        \n",
    "        f = path / f'VOC{year}/JPEGImages/{id}.jpg'  # old img path\n",
    "        img = Image.open(f)\n",
    "\n",
    "        if image_set == 'train' or image_set == 'val':\n",
    "            img_path = (imgs_path / 'train' / f.name).with_suffix('.png')\n",
    "            lb_path = (lbs_path / 'train' / f.name).with_suffix('.txt')\n",
    "            classes = [i for i in range(20) if i not in [9, 16, 7, 0]]\n",
    "            good = convert_label(img, path, lb_path, year, id, classes)  # convert labels to YOLO format\n",
    "            if good:\n",
    "                img = resize_with_padding(img, (640,640))\n",
    "                img.save(img_path)\n",
    "\n",
    "        if image_set == 'test':\n",
    "            #Base validation\n",
    "            img_path = (imgs_path / 'valid' / f.name).with_suffix('.png')\n",
    "            lb_path = (lbs_path / 'valid' / f.name).with_suffix('.txt')\n",
    "            classes = [i for i in range(20) if i not in [9, 16, 7, 0]] \n",
    "            good = convert_label(img, path, lb_path, year, id, classes)  # convert labels to YOLO format\n",
    "            if good:\n",
    "                img = resize_with_padding(img, (640,640))\n",
    "                img.save(img_path)\n",
    "\n",
    "            #Novel validation\n",
    "            img_path = (imgs_path / 'test' / f.name).with_suffix('.png')\n",
    "            lb_path = (lbs_path / 'test' / f.name).with_suffix('.txt')\n",
    "            classes = [9, 16, 7, 0]\n",
    "            good = convert_label(img, path, lb_path, year, id, classes)  # convert labels to YOLO format\n",
    "            if good:\n",
    "                img = resize_with_padding(img, (640,640))\n",
    "                img.save(img_path)\n"
   ]
  },
  {
   "cell_type": "code",
   "execution_count": null,
   "metadata": {},
   "outputs": [],
   "source": [
    "with open('data.yaml', 'wt') as f:\n",
    "    f.write('train: images/train \\n')\n",
    "    f.write('val: images/valid \\n')\n",
    "    f.write('test: images/test \\n')\n",
    "    f.write('support: supports \\n')\n",
    "    f.write(' \\n')\n",
    "    f.write('nc: '+str(20)+'\\n')"
   ]
  },
  {
   "cell_type": "code",
   "execution_count": null,
   "metadata": {},
   "outputs": [],
   "source": [
    "#!rm -rf VOCdevkit"
   ]
  },
  {
   "cell_type": "code",
   "execution_count": 2,
   "metadata": {},
   "outputs": [
    {
     "name": "stderr",
     "output_type": "stream",
     "text": [
      "  0%|          | 0/6993 [00:00<?, ?it/s]"
     ]
    },
    {
     "name": "stderr",
     "output_type": "stream",
     "text": [
      "100%|██████████| 6993/6993 [00:00<00:00, 40208.88it/s]\n",
      "100%|██████████| 7069/7069 [00:00<00:00, 40253.47it/s]\n",
      "100%|██████████| 762/762 [00:00<00:00, 45376.02it/s]\n"
     ]
    },
    {
     "name": "stdout",
     "output_type": "stream",
     "text": [
      "Int64Index([0, 1, 2, 3, 4, 5, 6, 7, 8, 9, 10, 11, 12, 13, 14, 15, 16, 17, 18,\n",
      "            19],\n",
      "           dtype='int64')\n",
      "20\n"
     ]
    },
    {
     "data": {
      "image/png": "[encoded data removed]",
      "text/plain": [
       "<Figure size 1000x500 with 1 Axes>"
      ]
     },
     "metadata": {},
     "output_type": "display_data"
    }
   ],
   "source": [
    "import pandas as pd\n",
    "import glob\n",
    "from tqdm import tqdm\n",
    "import matplotlib.pyplot as plt\n",
    "\n",
    "def load_labels(file_paths):\n",
    "    \"\"\"Charge les labels de plusieurs fichiers et retourne une DataFrame.\"\"\"\n",
    "    labels = []\n",
    "    for file_path in tqdm(file_paths):\n",
    "        with open(file_path) as f:\n",
    "            for line in f:\n",
    "                labels.append(line.split(\" \")[0])\n",
    "    return pd.DataFrame({\"support\": labels})\n",
    "\n",
    "def process_data(train_files, val_files, test_files):\n",
    "    \"\"\"Traite les fichiers et retourne un DataFrame combiné.\"\"\"\n",
    "    # Charger les données\n",
    "    aa = load_labels(train_files).astype(int)\n",
    "    bb = load_labels(val_files).astype(int)\n",
    "    cc = load_labels(test_files).astype(int)\n",
    "\n",
    "    # Comptage des valeurs\n",
    "    counta = aa[\"support\"].value_counts()\n",
    "    countb = bb[\"support\"].value_counts()\n",
    "    countc = cc[\"support\"].value_counts()\n",
    "\n",
    "    # Fusionner les classes uniques\n",
    "    classes = pd.concat([counta, countb, countc]).index.unique()\n",
    "    classes = pd.to_numeric(classes).sort_values()\n",
    "\n",
    "    return classes, counta, countb, countc\n",
    "\n",
    "def plot_data(classes, counta, countb, countc):\n",
    "    \"\"\"Trace les graphiques de type barres empilées.\"\"\"\n",
    "    # Initialisation des dictionnaires avec 0 pour chaque classe\n",
    "    listea = {cls: counta.get(cls, 0) for cls in classes}\n",
    "    listeb = {cls: countb.get(cls, 0) for cls in classes}\n",
    "    listec = {cls: countc.get(cls, 0) for cls in classes}\n",
    "\n",
    "    # Créer un DataFrame pour les données de barres empilées\n",
    "    df = pd.DataFrame({'Train': listea, 'Val': listeb, 'Test': listec}, index=classes)\n",
    "    df = df.sort_index(ascending=True)\n",
    "\n",
    "    position = range(len(df.index))\n",
    "\n",
    "    # Créer le graphique\n",
    "    fig, ax = plt.subplots(figsize=(10,5))\n",
    "    ax.bar(position, df['Train'], label='Train')\n",
    "    ax.bar(position, df['Val'], bottom=df['Train'], label='Val_Base')\n",
    "    ax.bar(position, df['Test'], bottom=df['Train'] + df['Val'], label='Val_Novel')\n",
    "\n",
    "    # Ajouter les éléments au graphique\n",
    "    ax.legend()\n",
    "    ax.set_xticks(position)  # Définir seulement les positions de l'index existant\n",
    "    ax.set_xticklabels(df.index, rotation=90)\n",
    "    ax.set_xlim(min(position) - 1, max(position) + 1)\n",
    "    plt.tight_layout()\n",
    "    plt.show()\n",
    "\n",
    "#plt.style.use(\"dark_background\")\n",
    "\n",
    "# Main\n",
    "a = 'labels'\n",
    "train_files = glob.glob(f'{a}/train/*.txt')\n",
    "val_files = glob.glob(f'{a}/valid/*.txt')\n",
    "test_files = glob.glob(f'{a}/test/*.txt')\n",
    "\n",
    "classes, counta, countb, countc = process_data(train_files, val_files, test_files)\n",
    "print(classes)\n",
    "print(len(classes))\n",
    "plot_data(classes, counta, countb, countc)"
   ]
  },
  {
   "cell_type": "code",
   "execution_count": null,
   "metadata": {},
   "outputs": [],
   "source": []
  }
 ],
 "metadata": {
  "kernelspec": {
   "display_name": "RPC",
   "language": "python",
   "name": "python3"
  },
  "language_info": {
   "codemirror_mode": {
    "name": "ipython",
    "version": 3
   },
   "file_extension": ".py",
   "mimetype": "text/x-python",
   "name": "python",
   "nbconvert_exporter": "python",
   "pygments_lexer": "ipython3",
   "version": "3.10.8"
  },
  "orig_nbformat": 4
 },
 "nbformat": 4,
 "nbformat_minor": 2
}
