{
 "cells": [
  {
   "cell_type": "code",
   "execution_count": 1,
   "metadata": {},
   "outputs": [],
   "source": [
    "import xml.etree.ElementTree as ET\n",
    "from tqdm import tqdm\n",
    "from pathlib import Path\n",
    "from tqdm import tqdm\n",
    "import glob"
   ]
  },
  {
   "cell_type": "code",
   "execution_count": 2,
   "metadata": {},
   "outputs": [],
   "source": [
    "train_class_names = ['pottedplant', 'sofa', 'tvmonitor', 'car', 'bottle', 'boat', 'chair', 'person', 'bus', 'train', 'horse', 'bicycle', 'dog', 'bird', 'motorbike', 'diningtable']\n",
    "test_class_names = ['cow', 'sheep', 'cat', 'aeroplane']"
   ]
  },
  {
   "cell_type": "code",
   "execution_count": 3,
   "metadata": {},
   "outputs": [],
   "source": [
    "import os\n",
    "\n",
    "paths = ['images',\n",
    "         'images/train',\n",
    "         'images/valid',\n",
    "         'images/test',\n",
    "         'labels',\n",
    "         'labels/train',\n",
    "         'labels/valid',\n",
    "         'labels/test',\n",
    "         'supports']\n",
    "\n",
    "for path in paths:\n",
    "    if not os.path.exists(path):\n",
    "        os.mkdir(path)\n",
    "\n",
    "for i in range(20):\n",
    "    if not os.path.exists('supports/'+str(i)):\n",
    "        os.mkdir('supports/'+str(i))    \n",
    "\n",
    "path = 'VOC'\n",
    "train = [ # train images (relative to 'path')  16551 images\n",
    "  'images/train2012',\n",
    "  'images/train2007',\n",
    "  'images/val2012',\n",
    "  'images/val2007'\n",
    "]\n",
    "val = [ # val images (relative to 'path')  4952 images\n",
    "  'images/test2007'\n",
    "]\n",
    "test = [ # test images (optional)\n",
    "  'images/test2007'\n",
    "]"
   ]
  },
  {
   "cell_type": "code",
   "execution_count": null,
   "metadata": {},
   "outputs": [],
   "source": [
    "!wget Downloading https://github.com/ultralytics/yolov5/releases/download/v1.0/VOCtrainval_06-Nov-2007.zip -o 'VOCtrainval_06-Nov-2007.zip' # 446MB, 5012 images\n",
    "!wget Downloading https://github.com/ultralytics/yolov5/releases/download/v1.0/VOCtest_06-Nov-2007.zip -o 'VOCtest_06-Nov-2007.zip' # 438MB, 4953 images\n",
    "!wget Downloading https://github.com/ultralytics/yolov5/releases/download/v1.0/VOCtrainval_11-May-2012.zip -o 'VOCtrainval_11-May-2012.zip' # 1.95GB, 17126 images"
   ]
  },
  {
   "cell_type": "code",
   "execution_count": null,
   "metadata": {},
   "outputs": [],
   "source": [
    "!unzip 'VOCtrainval_06-Nov-2007.zip.1'\n",
    "!unzip 'VOCtest_06-Nov-2007.zip.1'\n",
    "!unzip 'VOCtrainval_11-May-2012.zip.1'"
   ]
  },
  {
   "cell_type": "code",
   "execution_count": null,
   "metadata": {},
   "outputs": [],
   "source": [
    "!rm 'VOCtrainval_06-Nov-2007.zip.1'\n",
    "!rm 'VOCtest_06-Nov-2007.zip.1'\n",
    "!rm 'VOCtrainval_11-May-2012.zip.1'"
   ]
  },
  {
   "cell_type": "code",
   "execution_count": 4,
   "metadata": {},
   "outputs": [],
   "source": [
    "# Classes\n",
    "\n",
    "\n",
    "def convert_box(size, box):\n",
    "    dw, dh = 1. / size[0], 1. / size[1]\n",
    "    x, y, w, h = (box[0] + box[1]) / 2.0 - 1, (box[2] + box[3]) / 2.0 - 1, box[1] - box[0], box[3] - box[2]\n",
    "    return x * dw, y * dh, w * dw, h * dh\n",
    "\n",
    "names = {\n",
    "    0: 'aeroplane',\n",
    "    1: 'bicycle',\n",
    "    2: 'bird',\n",
    "    3: 'boat',\n",
    "    4: 'bottle',\n",
    "    5: 'bus',\n",
    "    6: 'car',\n",
    "    7: 'cat',\n",
    "    8: 'chair',\n",
    "    9: 'cow',\n",
    "    10: 'diningtable',\n",
    "    11: 'dog',\n",
    "    12: 'horse',\n",
    "    13: 'motorbike',\n",
    "    14: 'person',\n",
    "    15: 'pottedplant',\n",
    "    16: 'sheep',\n",
    "    17: 'sofa',\n",
    "    18: 'train',\n",
    "    19: 'tvmonitor',\n",
    "}\n",
    "\n",
    "novel = [9, 16, 7, 0]\n",
    "\n",
    "from PIL import Image, ImageOps\n",
    "\n",
    "def resize_with_padding(img, expected_size):\n",
    "    width, height = img.size\n",
    "    ratio = width / height\n",
    "    if width < height:\n",
    "        img = img.resize((int(ratio*expected_size[0]),int(expected_size[0])))\n",
    "    else:\n",
    "        img = img.resize((int(expected_size[1]),int((1/ratio)*expected_size[1])))\n",
    "        \n",
    "    img.thumbnail((expected_size[0], expected_size[1]))\n",
    "    delta_width = expected_size[0] - img.size[0]\n",
    "    delta_height = expected_size[1] - img.size[1]\n",
    "    pad_width = delta_width // 2\n",
    "    pad_height = delta_height // 2\n",
    "    padding = (pad_width, pad_height, delta_width - pad_width, delta_height - pad_height)\n",
    "    return ImageOps.expand(img, padding)\n",
    "\n",
    "support_imgs = {i:0 for i in range(20)}\n",
    "\n",
    "def resize_label_with_padding(old_size, expected_size, bbox):\n",
    "    (x,y,w,h) = bbox\n",
    "\n",
    "    ratio = old_size[0] / old_size[1]\n",
    "    if old_size[0] < old_size[1]:\n",
    "        new = (int(ratio*expected_size[0]),int(expected_size[0]))\n",
    "    else:\n",
    "        new = (int(expected_size[1]),int((1/ratio)*expected_size[1]))\n",
    "\n",
    "    delta_width = expected_size[0] - new[0]\n",
    "    delta_height = expected_size[1] - new[1]\n",
    "\n",
    "    pad_width = delta_width // 2\n",
    "    pad_height = delta_height // 2\n",
    "\n",
    "    x_t = (pad_width +  (x)*new[0]) / expected_size[0]\n",
    "    y_t = (pad_height + (y)*new[1]) / expected_size[1]\n",
    "    w_t = w*new[0] / expected_size[0]\n",
    "    h_t = h*new[1] / expected_size[1]\n",
    "    \n",
    "    return x_t,y_t,w_t,h_t\n",
    "\n",
    "def convert_label(image, path, lb_path, year, image_id, classes):\n",
    "    in_file = open(path / f'VOC{year}/Annotations/{image_id}.xml')\n",
    "    tree = ET.parse(in_file)\n",
    "    root = tree.getroot()\n",
    "    size = root.find('size')\n",
    "    w = int(size.find('width').text)\n",
    "    h = int(size.find('height').text)\n",
    "\n",
    "    name = list(names.values())  # names list\n",
    "    good = False\n",
    "    for obj in root.iter('object'):\n",
    "        cls = obj.find('name').text\n",
    "        cls_id = name.index(cls)  # class id\n",
    "        if cls_id in classes and cls in name:# and int(obj.find('difficult').text) != 1: #OK ??\n",
    "            xmlbox = obj.find('bndbox')\n",
    "            x1, x2, y1, y2 = [float(xmlbox.find(x).text) for x in ('xmin', 'xmax', 'ymin', 'ymax')]\n",
    "            img = image.crop((x1,y1,x2,y2))\n",
    "            img = resize_with_padding(img, (160,160))\n",
    "            img.save('supports/'+str(cls_id)+'/'+str(support_imgs[cls_id])+'.png')\n",
    "            support_imgs[cls_id] = support_imgs[cls_id] + 1\n",
    "            bb = convert_box((w, h), [float(xmlbox.find(x).text) for x in ('xmin', 'xmax', 'ymin', 'ymax')])\n",
    "            bb = resize_label_with_padding((w,h), (640,640), bb)\n",
    "            with open(lb_path, 'a') as file:\n",
    "                file.write(\" \".join(str(a) for a in (cls_id, *bb)) + '\\n')\n",
    "            good = True\n",
    "    return good"
   ]
  },
  {
   "cell_type": "code",
   "execution_count": 5,
   "metadata": {},
   "outputs": [
    {
     "name": "stderr",
     "output_type": "stream",
     "text": [
      "train2012: 100%|██████████| 5717/5717 [06:05<00:00, 15.66it/s]\n",
      "val2012: 100%|██████████| 5823/5823 [06:07<00:00, 15.86it/s]\n",
      "train2007: 100%|██████████| 2501/2501 [02:50<00:00, 14.65it/s]\n",
      "val2007: 100%|██████████| 2510/2510 [02:47<00:00, 15.00it/s]\n",
      "test2007: 100%|██████████| 4952/4952 [00:55<00:00, 89.07it/s] \n"
     ]
    }
   ],
   "source": [
    "# Convert\n",
    "path = Path('VOCdevkit')\n",
    "\n",
    "for year, image_set in ('2012', 'train'), ('2012', 'val'), ('2007', 'train'), ('2007', 'val'), ('2007', 'test'):\n",
    "    imgs_path = Path('images')\n",
    "    lbs_path = Path('labels')\n",
    "\n",
    "    with open(path / f'VOC{year}/ImageSets/Main/{image_set}.txt') as f:\n",
    "        image_ids = f.read().strip().split()\n",
    "\n",
    "    for id in tqdm(image_ids, desc=f'{image_set}{year}'):\n",
    "        \n",
    "        f = path / f'VOC{year}/JPEGImages/{id}.jpg'  # old img path\n",
    "        img = Image.open(f)\n",
    "\n",
    "        if image_set == 'train':\n",
    "            img_path = (imgs_path / 'train' / f.name).with_suffix('.png')\n",
    "            lb_path = (lbs_path / 'train' / f.name).with_suffix('.txt')\n",
    "        if image_set == 'val':\n",
    "            img_path = (imgs_path / 'valid' / f.name).with_suffix('.png')\n",
    "            lb_path = (lbs_path / 'valid' / f.name).with_suffix('.txt')   \n",
    "        if image_set == 'test':\n",
    "            img_path = (imgs_path / 'test' / f.name).with_suffix('.png')\n",
    "            lb_path = (lbs_path / 'test' / f.name).with_suffix('.txt')\n",
    "            \n",
    "\n",
    "        classes = [i for i in range(20) if i not in [9, 16, 7, 0]] if image_set == 'train' or image_set == 'val' else [9, 16, 7, 0]\n",
    "\n",
    "        good = convert_label(img, path, lb_path, year, id, classes)  # convert labels to YOLO format\n",
    "        if good:\n",
    "            img = resize_with_padding(img, (640,640))\n",
    "            img.save(img_path)"
   ]
  },
  {
   "cell_type": "code",
   "execution_count": 6,
   "metadata": {},
   "outputs": [],
   "source": [
    "with open('data.yaml', 'wt') as f:\n",
    "    f.write('train: images/train \\n')\n",
    "    f.write('val: images/valid \\n')\n",
    "    f.write('test: images/test \\n')\n",
    "    f.write('dairy: images/dairy \\n')\n",
    "    f.write('paste: images/paste \\n')\n",
    "    f.write('support: supports \\n')\n",
    "    f.write(' \\n')\n",
    "    f.write('nc: '+str(20)+'\\n')"
   ]
  },
  {
   "cell_type": "code",
   "execution_count": 8,
   "metadata": {},
   "outputs": [
    {
     "name": "stderr",
     "output_type": "stream",
     "text": [
      "  0%|          | 0/6993 [00:00<?, ?it/s]"
     ]
    },
    {
     "name": "stderr",
     "output_type": "stream",
     "text": [
      "100%|██████████| 6993/6993 [00:00<00:00, 111658.84it/s]"
     ]
    },
    {
     "name": "stdout",
     "output_type": "stream",
     "text": [
      "20\n"
     ]
    },
    {
     "name": "stderr",
     "output_type": "stream",
     "text": [
      "\n"
     ]
    },
    {
     "data": {
      "image/png": "[encoded data removed]",
      "text/plain": [
       "<Figure size 640x480 with 1 Axes>"
      ]
     },
     "metadata": {},
     "output_type": "display_data"
    }
   ],
   "source": [
    "import matplotlib.pyplot as plt\n",
    "import seaborn as sns\n",
    "\n",
    "a = []\n",
    "\n",
    "lbs_path = 'labels/train/*'\n",
    "\n",
    "for i in tqdm(glob.glob(str(lbs_path))):\n",
    "    with open(i,'+r') as f:\n",
    "        info = f.read().strip().split()\n",
    "        size = len(info)\n",
    "        for y in range(0,size,5):\n",
    "            inf = info[y:y+5]\n",
    "            a.append(inf[0])   \n",
    "\n",
    "count = {i:a.count(str(i)) for i in range(0,20)}\n",
    "print(len(count))\n",
    "\n",
    "plt.figure()\n",
    "sns.barplot(x=list(count.keys()),y=list(count.values()))\n",
    "plt.show()"
   ]
  },
  {
   "cell_type": "code",
   "execution_count": null,
   "metadata": {},
   "outputs": [],
   "source": [
    "!rm -rf VOCdevkit"
   ]
  },
  {
   "cell_type": "code",
   "execution_count": null,
   "metadata": {},
   "outputs": [],
   "source": []
  }
 ],
 "metadata": {
  "kernelspec": {
   "display_name": "Python 3",
   "language": "python",
   "name": "python3"
  },
  "language_info": {
   "codemirror_mode": {
    "name": "ipython",
    "version": 3
   },
   "file_extension": ".py",
   "mimetype": "text/x-python",
   "name": "python",
   "nbconvert_exporter": "python",
   "pygments_lexer": "ipython3",
   "version": "3.10.12"
  },
  "orig_nbformat": 4
 },
 "nbformat": 4,
 "nbformat_minor": 2
}
