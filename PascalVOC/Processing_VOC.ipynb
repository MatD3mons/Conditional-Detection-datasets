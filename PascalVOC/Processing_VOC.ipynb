{
 "cells": [
  {
   "cell_type": "code",
   "execution_count": 8,
   "metadata": {},
   "outputs": [],
   "source": [
    "import xml.etree.ElementTree as ET\n",
    "from tqdm import tqdm\n",
    "from pathlib import Path\n",
    "from tqdm import tqdm\n",
    "import glob"
   ]
  },
  {
   "cell_type": "code",
   "execution_count": 9,
   "metadata": {},
   "outputs": [],
   "source": [
    "train_class_names = ['pottedplant', 'sofa', 'tvmonitor', 'car', 'bottle', 'boat', 'chair', 'person', 'bus', 'train', 'horse', 'bicycle', 'dog', 'bird', 'motorbike', 'diningtable']\n",
    "test_class_names = ['cow', 'sheep', 'cat', 'aeroplane']"
   ]
  },
  {
   "cell_type": "code",
   "execution_count": 10,
   "metadata": {},
   "outputs": [],
   "source": [
    "import os\n",
    "\n",
    "paths = ['images',\n",
    "         'images/train',\n",
    "         'images/valid',\n",
    "         'images/test',\n",
    "         'labels',\n",
    "         'labels/train',\n",
    "         'labels/valid',\n",
    "         'labels/test',\n",
    "         'supports']\n",
    "\n",
    "for path in paths:\n",
    "    if not os.path.exists(path):\n",
    "        os.mkdir(path)\n",
    "\n",
    "for i in range(20):\n",
    "    if not os.path.exists('supports/'+str(i)):\n",
    "        os.mkdir('supports/'+str(i))    \n",
    "\n",
    "path = 'VOC'\n",
    "train = [ # train images (relative to 'path')  16551 images\n",
    "  'images/train2012',\n",
    "  'images/train2007',\n",
    "  'images/val2012',\n",
    "  'images/val2007'\n",
    "]\n",
    "val = [ # val images (relative to 'path')  4952 images\n",
    "  'images/test2007'\n",
    "]\n",
    "test = [ # test images (optional)\n",
    "  'images/test2007'\n",
    "]"
   ]
  },
  {
   "cell_type": "code",
   "execution_count": null,
   "metadata": {},
   "outputs": [],
   "source": [
    "!wget Downloading https://github.com/ultralytics/yolov5/releases/download/v1.0/VOCtrainval_06-Nov-2007.zip -o 'VOCtrainval_06-Nov-2007.zip' # 446MB, 5012 images\n",
    "!wget Downloading https://github.com/ultralytics/yolov5/releases/download/v1.0/VOCtest_06-Nov-2007.zip -o 'VOCtest_06-Nov-2007.zip' # 438MB, 4953 images\n",
    "!wget Downloading https://github.com/ultralytics/yolov5/releases/download/v1.0/VOCtrainval_11-May-2012.zip -o 'VOCtrainval_11-May-2012.zip' # 1.95GB, 17126 images"
   ]
  },
  {
   "cell_type": "code",
   "execution_count": null,
   "metadata": {},
   "outputs": [],
   "source": [
    "!unzip 'VOCtrainval_06-Nov-2007.zip.1'\n",
    "!unzip 'VOCtest_06-Nov-2007.zip.1'\n",
    "!unzip 'VOCtrainval_11-May-2012.zip.1'"
   ]
  },
  {
   "cell_type": "code",
   "execution_count": null,
   "metadata": {},
   "outputs": [],
   "source": [
    "!rm 'VOCtrainval_06-Nov-2007.zip.1'\n",
    "!rm 'VOCtest_06-Nov-2007.zip.1'\n",
    "!rm 'VOCtrainval_11-May-2012.zip.1'"
   ]
  },
  {
   "cell_type": "code",
   "execution_count": 11,
   "metadata": {},
   "outputs": [],
   "source": [
    "# Classes\n",
    "\n",
    "\n",
    "def convert_box(size, box):\n",
    "    dw, dh = 1. / size[0], 1. / size[1]\n",
    "    x, y, w, h = (box[0] + box[1]) / 2.0 - 1, (box[2] + box[3]) / 2.0 - 1, box[1] - box[0], box[3] - box[2]\n",
    "    return x * dw, y * dh, w * dw, h * dh\n",
    "\n",
    "names = {\n",
    "    0: 'aeroplane',\n",
    "    1: 'bicycle',\n",
    "    2: 'bird',\n",
    "    3: 'boat',\n",
    "    4: 'bottle',\n",
    "    5: 'bus',\n",
    "    6: 'car',\n",
    "    7: 'cat',\n",
    "    8: 'chair',\n",
    "    9: 'cow',\n",
    "    10: 'diningtable',\n",
    "    11: 'dog',\n",
    "    12: 'horse',\n",
    "    13: 'motorbike',\n",
    "    14: 'person',\n",
    "    15: 'pottedplant',\n",
    "    16: 'sheep',\n",
    "    17: 'sofa',\n",
    "    18: 'train',\n",
    "    19: 'tvmonitor',\n",
    "}\n",
    "\n",
    "novel = [9, 16, 7, 0]\n",
    "\n",
    "from PIL import Image, ImageOps\n",
    "\n",
    "def resize_with_padding(img, expected_size):\n",
    "    width, height = img.size\n",
    "    ratio = width / height\n",
    "    if width < height:\n",
    "        img = img.resize((int(ratio*expected_size[0]),int(expected_size[0])))\n",
    "    else:\n",
    "        img = img.resize((int(expected_size[1]),int((1/ratio)*expected_size[1])))\n",
    "        \n",
    "    img.thumbnail((expected_size[0], expected_size[1]))\n",
    "    delta_width = expected_size[0] - img.size[0]\n",
    "    delta_height = expected_size[1] - img.size[1]\n",
    "    pad_width = delta_width // 2\n",
    "    pad_height = delta_height // 2\n",
    "    padding = (pad_width, pad_height, delta_width - pad_width, delta_height - pad_height)\n",
    "    return ImageOps.expand(img, padding)\n",
    "\n",
    "support_imgs = {i:0 for i in range(20)}\n",
    "\n",
    "def resize_label_with_padding(old_size, expected_size, bbox):\n",
    "    (x,y,w,h) = bbox\n",
    "\n",
    "    ratio = old_size[0] / old_size[1]\n",
    "    if old_size[0] < old_size[1]:\n",
    "        new = (int(ratio*expected_size[0]),int(expected_size[0]))\n",
    "    else:\n",
    "        new = (int(expected_size[1]),int((1/ratio)*expected_size[1]))\n",
    "\n",
    "    delta_width = expected_size[0] - new[0]\n",
    "    delta_height = expected_size[1] - new[1]\n",
    "\n",
    "    pad_width = delta_width // 2\n",
    "    pad_height = delta_height // 2\n",
    "\n",
    "    x_t = (pad_width +  (x)*new[0]) / expected_size[0]\n",
    "    y_t = (pad_height + (y)*new[1]) / expected_size[1]\n",
    "    w_t = w*new[0] / expected_size[0]\n",
    "    h_t = h*new[1] / expected_size[1]\n",
    "    \n",
    "    return x_t,y_t,w_t,h_t\n",
    "\n",
    "def convert_label(image, path, lb_path, year, image_id, classes):\n",
    "    in_file = open(path / f'VOC{year}/Annotations/{image_id}.xml')\n",
    "    tree = ET.parse(in_file)\n",
    "    root = tree.getroot()\n",
    "    size = root.find('size')\n",
    "    w = int(size.find('width').text)\n",
    "    h = int(size.find('height').text)\n",
    "\n",
    "    name = list(names.values())  # names list\n",
    "    good = False\n",
    "    for obj in root.iter('object'):\n",
    "        cls = obj.find('name').text\n",
    "        cls_id = name.index(cls)  # class id\n",
    "        if cls_id in classes and cls in name:# and int(obj.find('difficult').text) != 1: #OK ??\n",
    "            xmlbox = obj.find('bndbox')\n",
    "            x1, x2, y1, y2 = [float(xmlbox.find(x).text) for x in ('xmin', 'xmax', 'ymin', 'ymax')]\n",
    "            img = image.crop((x1,y1,x2,y2))\n",
    "            img = resize_with_padding(img, (160,160))\n",
    "            img.save('supports/'+str(cls_id)+'/'+str(support_imgs[cls_id])+'.png')\n",
    "            support_imgs[cls_id] = support_imgs[cls_id] + 1\n",
    "            bb = convert_box((w, h), [float(xmlbox.find(x).text) for x in ('xmin', 'xmax', 'ymin', 'ymax')])\n",
    "            bb = resize_label_with_padding((w,h), (640,640), bb)\n",
    "            with open(lb_path, 'a') as file:\n",
    "                file.write(\" \".join(str(a) for a in (cls_id, *bb)) + '\\n')\n",
    "            good = True\n",
    "    return good"
   ]
  },
  {
   "cell_type": "code",
   "execution_count": 12,
   "metadata": {},
   "outputs": [
    {
     "name": "stderr",
     "output_type": "stream",
     "text": [
      "train2012:   0%|          | 0/5717 [00:00<?, ?it/s]"
     ]
    },
    {
     "name": "stdout",
     "output_type": "stream",
     "text": [
      "(0.522, 0.5712669683257919, 0.836, 0.7533936651583711)\n",
      "(0.522, 0.5621341204751131, 0.836, 0.6651053450226245)\n",
      "(0.445, 0.23642533936651586, 0.262, 0.27828054298642535)\n",
      "(0.445, 0.26653174490950227, 0.262, 0.24566954185520365)\n"
     ]
    },
    {
     "name": "stderr",
     "output_type": "stream",
     "text": [
      "train2012:   0%|          | 2/5717 [00:00<21:31,  4.42it/s]"
     ]
    },
    {
     "name": "stdout",
     "output_type": "stream",
     "text": [
      "(0.646, 0.26758409785932724, 0.216, 0.5351681957186545)\n",
      "(0.646, 0.3482033639143731, 0.21600000000000003, 0.3495317278287462)\n",
      "(0.219, 0.22782874617737003, 0.214, 0.45565749235474007)\n",
      "(0.219, 0.3222381498470948, 0.21400000000000002, 0.2976012996941896)\n"
     ]
    },
    {
     "name": "stderr",
     "output_type": "stream",
     "text": [
      "train2012:   0%|          | 3/5717 [00:00<17:56,  5.31it/s]"
     ]
    },
    {
     "name": "stdout",
     "output_type": "stream",
     "text": [
      "(0.5302083333333333, 0.36213235294117646, 0.48541666666666666, 0.7169117647058824)\n",
      "(0.5302083333333333, 0.4220186121323529, 0.4854166666666667, 0.40550321691176466)\n",
      "(0.5010416666666666, 0.5514705882352942, 0.31875, 0.625)\n",
      "(0.5010416666666666, 0.5291130514705882, 0.31875, 0.353515625)\n",
      "(0.8739583333333333, 0.20404411764705882, 0.24791666666666667, 0.40808823529411764)\n",
      "(0.8739583333333332, 0.3325999540441177, 0.2479166666666667, 0.23082490808823528)\n",
      "(0.4774774774774775, 0.261, 0.924924924924925, 0.522)\n",
      "(0.48500844594594594, 0.261, 0.6156531531531532, 0.522)\n",
      "(0.23873873873873874, 0.506, 0.24324324324324323, 0.628)\n",
      "(0.326097972972973, 0.506, 0.16190878378378376, 0.628)\n",
      "(0.45645645645645644, 0.14300000000000002, 0.0960960960960961, 0.146)\n",
      "(0.4710163288288288, 0.14300000000000002, 0.06396396396396396, 0.146)\n",
      "(0.5915915915915916, 0.138, 0.10810810810810811, 0.136)\n",
      "(0.560965653153153, 0.138, 0.07195945945945946, 0.136)\n",
      "(0.3258258258258258, 0.14, 0.08108108108108109, 0.128)\n",
      "(0.3840653153153153, 0.14, 0.05396959459459459, 0.128)\n"
     ]
    },
    {
     "name": "stderr",
     "output_type": "stream",
     "text": [
      "train2012:   0%|          | 5/5717 [00:00<16:48,  5.66it/s]"
     ]
    },
    {
     "name": "stdout",
     "output_type": "stream",
     "text": [
      "(0.387, 0.5826666666666667, 0.146, 0.10933333333333332)\n",
      "(0.387, 0.562, 0.146, 0.08199999999999999)\n",
      "(0.139, 0.584, 0.094, 0.096)\n",
      "(0.139, 0.563, 0.094, 0.072)\n",
      "(0.321, 0.04533333333333333, 0.166, 0.09066666666666666)\n",
      "(0.321, 0.15899999999999997, 0.166, 0.06799999999999999)\n",
      "(0.388, 0.20933333333333332, 0.312, 0.22133333333333333)\n",
      "(0.388, 0.282, 0.312, 0.16599999999999998)\n",
      "(0.599, 0.412, 0.378, 0.43466666666666665)\n",
      "(0.599, 0.434, 0.378, 0.32599999999999996)\n",
      "(0.522, 0.25066666666666665, 0.9520000000000001, 0.496)\n",
      "(0.522, 0.313, 0.9520000000000002, 0.372)\n",
      "(0.499, 0.6226666666666666, 0.998, 0.2533333333333333)\n",
      "(0.499, 0.5919999999999999, 0.998, 0.18999999999999997)\n"
     ]
    },
    {
     "name": "stderr",
     "output_type": "stream",
     "text": [
      "train2012:   0%|          | 7/5717 [00:01<12:27,  7.64it/s]"
     ]
    },
    {
     "name": "stdout",
     "output_type": "stream",
     "text": [
      "(0.655, 0.536, 0.23, 0.17066666666666666)\n",
      "(0.655, 0.527, 0.23000000000000004, 0.128)\n",
      "(0.621, 0.5573333333333333, 0.066, 0.112)\n",
      "(0.621, 0.5429999999999999, 0.066, 0.08399999999999999)\n",
      "(0.46, 0.5466666666666666, 0.1, 0.16)\n",
      "(0.4600000000000001, 0.5349999999999999, 0.1, 0.12)\n",
      "(0.318, 0.6533333333333333, 0.152, 0.448)\n",
      "(0.318, 0.615, 0.152, 0.33599999999999997)\n",
      "(0.9550000000000001, 0.6759999999999999, 0.08600000000000001, 0.22666666666666666)\n",
      "(0.9550000000000001, 0.6319999999999999, 0.08600000000000001, 0.16999999999999998)\n",
      "(0.936, 0.5519999999999999, 0.124, 0.18666666666666665)\n",
      "(0.9360000000000002, 0.5389999999999999, 0.124, 0.13999999999999999)\n",
      "(0.801, 0.86, 0.202, 0.27466666666666667)\n",
      "(0.8009999999999999, 0.77, 0.202, 0.20600000000000002)\n",
      "(0.616, 0.816, 0.176, 0.304)\n",
      "(0.616, 0.7369999999999999, 0.176, 0.22799999999999998)\n",
      "(0.47300000000000003, 0.844, 0.194, 0.30666666666666664)\n",
      "(0.47300000000000003, 0.758, 0.194, 0.22999999999999998)\n",
      "(0.549, 0.7373333333333333, 0.506, 0.2853333333333333)\n",
      "(0.549, 0.6779999999999999, 0.506, 0.21400000000000002)\n",
      "(0.136, 0.5346666666666666, 0.06, 0.06666666666666667)\n",
      "(0.136, 0.526, 0.06, 0.05)\n",
      "(0.8250000000000001, 0.7266666666666667, 0.222, 0.45599999999999996)\n",
      "(0.825, 0.67, 0.22200000000000003, 0.34199999999999997)\n"
     ]
    },
    {
     "name": "stderr",
     "output_type": "stream",
     "text": [
      "train2012:   0%|          | 9/5717 [00:01<16:02,  5.93it/s]\n"
     ]
    },
    {
     "name": "stdout",
     "output_type": "stream",
     "text": [
      "(0.498, 0.5093333333333333, 0.8200000000000001, 0.7999999999999999)\n",
      "(0.49800000000000005, 0.507, 0.8200000000000001, 0.5999999999999999)\n"
     ]
    },
    {
     "ename": "KeyboardInterrupt",
     "evalue": "",
     "output_type": "error",
     "traceback": [
      "\u001b[0;31m---------------------------------------------------------------------------\u001b[0m",
      "\u001b[0;31mKeyboardInterrupt\u001b[0m                         Traceback (most recent call last)",
      "Cell \u001b[0;32mIn [12], line 32\u001b[0m\n\u001b[1;32m     30\u001b[0m \u001b[38;5;28;01mif\u001b[39;00m good:\n\u001b[1;32m     31\u001b[0m     img \u001b[38;5;241m=\u001b[39m resize_with_padding(img, (\u001b[38;5;241m640\u001b[39m,\u001b[38;5;241m640\u001b[39m))\n\u001b[0;32m---> 32\u001b[0m     \u001b[43mimg\u001b[49m\u001b[38;5;241;43m.\u001b[39;49m\u001b[43msave\u001b[49m\u001b[43m(\u001b[49m\u001b[43mimg_path\u001b[49m\u001b[43m)\u001b[49m\n",
      "File \u001b[0;32m~/miniconda3/envs/RPC/lib/python3.10/site-packages/PIL/Image.py:2320\u001b[0m, in \u001b[0;36mImage.save\u001b[0;34m(self, fp, format, **params)\u001b[0m\n\u001b[1;32m   2317\u001b[0m         fp \u001b[38;5;241m=\u001b[39m builtins\u001b[38;5;241m.\u001b[39mopen(filename, \u001b[38;5;124m\"\u001b[39m\u001b[38;5;124mw+b\u001b[39m\u001b[38;5;124m\"\u001b[39m)\n\u001b[1;32m   2319\u001b[0m \u001b[38;5;28;01mtry\u001b[39;00m:\n\u001b[0;32m-> 2320\u001b[0m     \u001b[43msave_handler\u001b[49m\u001b[43m(\u001b[49m\u001b[38;5;28;43mself\u001b[39;49m\u001b[43m,\u001b[49m\u001b[43m \u001b[49m\u001b[43mfp\u001b[49m\u001b[43m,\u001b[49m\u001b[43m \u001b[49m\u001b[43mfilename\u001b[49m\u001b[43m)\u001b[49m\n\u001b[1;32m   2321\u001b[0m \u001b[38;5;28;01mexcept\u001b[39;00m \u001b[38;5;167;01mException\u001b[39;00m:\n\u001b[1;32m   2322\u001b[0m     \u001b[38;5;28;01mif\u001b[39;00m open_fp:\n",
      "File \u001b[0;32m~/miniconda3/envs/RPC/lib/python3.10/site-packages/PIL/PngImagePlugin.py:1374\u001b[0m, in \u001b[0;36m_save\u001b[0;34m(im, fp, filename, chunk, save_all)\u001b[0m\n\u001b[1;32m   1372\u001b[0m     _write_multiple_frames(im, fp, chunk, rawmode)\n\u001b[1;32m   1373\u001b[0m \u001b[38;5;28;01melse\u001b[39;00m:\n\u001b[0;32m-> 1374\u001b[0m     \u001b[43mImageFile\u001b[49m\u001b[38;5;241;43m.\u001b[39;49m\u001b[43m_save\u001b[49m\u001b[43m(\u001b[49m\u001b[43mim\u001b[49m\u001b[43m,\u001b[49m\u001b[43m \u001b[49m\u001b[43m_idat\u001b[49m\u001b[43m(\u001b[49m\u001b[43mfp\u001b[49m\u001b[43m,\u001b[49m\u001b[43m \u001b[49m\u001b[43mchunk\u001b[49m\u001b[43m)\u001b[49m\u001b[43m,\u001b[49m\u001b[43m \u001b[49m\u001b[43m[\u001b[49m\u001b[43m(\u001b[49m\u001b[38;5;124;43m\"\u001b[39;49m\u001b[38;5;124;43mzip\u001b[39;49m\u001b[38;5;124;43m\"\u001b[39;49m\u001b[43m,\u001b[49m\u001b[43m \u001b[49m\u001b[43m(\u001b[49m\u001b[38;5;241;43m0\u001b[39;49m\u001b[43m,\u001b[49m\u001b[43m \u001b[49m\u001b[38;5;241;43m0\u001b[39;49m\u001b[43m)\u001b[49m\u001b[43m \u001b[49m\u001b[38;5;241;43m+\u001b[39;49m\u001b[43m \u001b[49m\u001b[43mim\u001b[49m\u001b[38;5;241;43m.\u001b[39;49m\u001b[43msize\u001b[49m\u001b[43m,\u001b[49m\u001b[43m \u001b[49m\u001b[38;5;241;43m0\u001b[39;49m\u001b[43m,\u001b[49m\u001b[43m \u001b[49m\u001b[43mrawmode\u001b[49m\u001b[43m)\u001b[49m\u001b[43m]\u001b[49m\u001b[43m)\u001b[49m\n\u001b[1;32m   1376\u001b[0m \u001b[38;5;28;01mif\u001b[39;00m info:\n\u001b[1;32m   1377\u001b[0m     \u001b[38;5;28;01mfor\u001b[39;00m info_chunk \u001b[38;5;129;01min\u001b[39;00m info\u001b[38;5;241m.\u001b[39mchunks:\n",
      "File \u001b[0;32m~/miniconda3/envs/RPC/lib/python3.10/site-packages/PIL/ImageFile.py:518\u001b[0m, in \u001b[0;36m_save\u001b[0;34m(im, fp, tile, bufsize)\u001b[0m\n\u001b[1;32m    515\u001b[0m \u001b[38;5;28;01mif\u001b[39;00m exc:\n\u001b[1;32m    516\u001b[0m     \u001b[38;5;66;03m# compress to Python file-compatible object\u001b[39;00m\n\u001b[1;32m    517\u001b[0m     \u001b[38;5;28;01mwhile\u001b[39;00m \u001b[38;5;28;01mTrue\u001b[39;00m:\n\u001b[0;32m--> 518\u001b[0m         l, s, d \u001b[38;5;241m=\u001b[39m \u001b[43mencoder\u001b[49m\u001b[38;5;241;43m.\u001b[39;49m\u001b[43mencode\u001b[49m\u001b[43m(\u001b[49m\u001b[43mbufsize\u001b[49m\u001b[43m)\u001b[49m\n\u001b[1;32m    519\u001b[0m         fp\u001b[38;5;241m.\u001b[39mwrite(d)\n\u001b[1;32m    520\u001b[0m         \u001b[38;5;28;01mif\u001b[39;00m s:\n",
      "\u001b[0;31mKeyboardInterrupt\u001b[0m: "
     ]
    }
   ],
   "source": [
    "# Convert\n",
    "path = Path('VOCdevkit')\n",
    "\n",
    "for year, image_set in ('2012', 'train'), ('2012', 'val'), ('2007', 'train'), ('2007', 'val'), ('2007', 'test'):\n",
    "    imgs_path = Path('images')\n",
    "    lbs_path = Path('labels')\n",
    "\n",
    "    with open(path / f'VOC{year}/ImageSets/Main/{image_set}.txt') as f:\n",
    "        image_ids = f.read().strip().split()\n",
    "\n",
    "    for id in tqdm(image_ids, desc=f'{image_set}{year}'):\n",
    "        \n",
    "        f = path / f'VOC{year}/JPEGImages/{id}.jpg'  # old img path\n",
    "        img = Image.open(f)\n",
    "\n",
    "        if image_set == 'train':\n",
    "            img_path = (imgs_path / 'train' / f.name).with_suffix('.png')\n",
    "            lb_path = (lbs_path / 'train' / f.name).with_suffix('.txt')\n",
    "        if image_set == 'val':\n",
    "            img_path = (imgs_path / 'valid' / f.name).with_suffix('.png')\n",
    "            lb_path = (lbs_path / 'valid' / f.name).with_suffix('.txt')   \n",
    "        if image_set == 'test':\n",
    "            img_path = (imgs_path / 'test' / f.name).with_suffix('.png')\n",
    "            lb_path = (lbs_path / 'test' / f.name).with_suffix('.txt')\n",
    "            \n",
    "\n",
    "        classes = [i for i in range(20) if i not in [9, 16, 7, 0]] if image_set == 'train' or image_set == 'val' else [9, 16, 7, 0]\n",
    "\n",
    "        good = convert_label(img, path, lb_path, year, id, classes)  # convert labels to YOLO format\n",
    "        if good:\n",
    "            img = resize_with_padding(img, (640,640))\n",
    "            img.save(img_path)"
   ]
  },
  {
   "cell_type": "code",
   "execution_count": 6,
   "metadata": {},
   "outputs": [],
   "source": [
    "with open('data.yaml', 'wt') as f:\n",
    "    f.write('train: images/train \\n')\n",
    "    f.write('val: images/valid \\n')\n",
    "    f.write('test: images/test \\n')\n",
    "    f.write('dairy: images/dairy \\n')\n",
    "    f.write('paste: images/paste \\n')\n",
    "    f.write('support: supports \\n')\n",
    "    f.write(' \\n')\n",
    "    f.write('nc: '+str(20)+'\\n')"
   ]
  },
  {
   "cell_type": "code",
   "execution_count": 7,
   "metadata": {},
   "outputs": [
    {
     "name": "stderr",
     "output_type": "stream",
     "text": [
      "100%|██████████| 6993/6993 [00:00<00:00, 24396.06it/s]\n"
     ]
    },
    {
     "name": "stdout",
     "output_type": "stream",
     "text": [
      "20\n"
     ]
    },
    {
     "data": {
      "image/png": "[encoded data removed]",
      "text/plain": [
       "<Figure size 640x480 with 1 Axes>"
      ]
     },
     "metadata": {},
     "output_type": "display_data"
    }
   ],
   "source": [
    "import matplotlib.pyplot as plt\n",
    "import seaborn as sns\n",
    "\n",
    "a = []\n",
    "\n",
    "lbs_path = 'labels/train/*'\n",
    "\n",
    "for i in tqdm(glob.glob(str(lbs_path))):\n",
    "    with open(i,'+r') as f:\n",
    "        info = f.read().strip().split()\n",
    "        size = len(info)\n",
    "        for y in range(0,size,5):\n",
    "            inf = info[y:y+5]\n",
    "            a.append(inf[0])   \n",
    "\n",
    "count = {i:a.count(str(i)) for i in range(0,20)}\n",
    "print(len(count))\n",
    "\n",
    "plt.figure()\n",
    "sns.barplot(x=range(0,20),y=count.values())\n",
    "plt.show()"
   ]
  },
  {
   "cell_type": "code",
   "execution_count": null,
   "metadata": {},
   "outputs": [],
   "source": [
    "!rm -rf VOCdevkit"
   ]
  },
  {
   "cell_type": "code",
   "execution_count": null,
   "metadata": {},
   "outputs": [],
   "source": []
  }
 ],
 "metadata": {
  "kernelspec": {
   "display_name": "Python 3",
   "language": "python",
   "name": "python3"
  },
  "language_info": {
   "codemirror_mode": {
    "name": "ipython",
    "version": 3
   },
   "file_extension": ".py",
   "mimetype": "text/x-python",
   "name": "python",
   "nbconvert_exporter": "python",
   "pygments_lexer": "ipython3",
   "version": "3.10.8"
  },
  "orig_nbformat": 4
 },
 "nbformat": 4,
 "nbformat_minor": 2
}
