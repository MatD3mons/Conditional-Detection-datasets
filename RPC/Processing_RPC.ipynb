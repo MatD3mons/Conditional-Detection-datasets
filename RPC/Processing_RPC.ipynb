{
 "cells": [
  {
   "cell_type": "code",
   "execution_count": 1,
   "metadata": {},
   "outputs": [],
   "source": [
    "import numpy as np\n",
    "import pandas as pd\n",
    "import json\n",
    "from PIL import Image, ImageOps\n",
    "from tqdm import tqdm"
   ]
  },
  {
   "cell_type": "code",
   "execution_count": 2,
   "metadata": {},
   "outputs": [],
   "source": [
    "def load_json(jfile):\n",
    "    with open(jfile, 'rb') as f:\n",
    "        return json.load(f)"
   ]
  },
  {
   "cell_type": "code",
   "execution_count": 3,
   "metadata": {},
   "outputs": [],
   "source": [
    "PATH = '/media/nas/BasesDeDonnees/retail_product_checkout/'\n",
    "#PATH = '../../retail_product_checkout/'\n",
    "\n",
    "images_test = PATH+'test2019'\n",
    "images_train = PATH+'train2019'\n",
    "images_val = PATH+'val2019'\n",
    "\n",
    "test = PATH+'instances_test2019.json'\n",
    "train = PATH+'instances_train2019.json'\n",
    "val = PATH+'instances_val2019.json'\n",
    "\n",
    "test_data = load_json(test)\n",
    "train_data = load_json(train)\n",
    "val_data = load_json(val)"
   ]
  },
  {
   "cell_type": "code",
   "execution_count": 4,
   "metadata": {},
   "outputs": [],
   "source": [
    "import os\n",
    "\n",
    "paths = ['RPC',\n",
    "         'RPC/images',\n",
    "         'RPC/images/train',\n",
    "         'RPC/images/valid',\n",
    "         'RPC/images/test',\n",
    "         'RPC/labels',\n",
    "         'RPC/labels/train',\n",
    "         'RPC/labels/valid',\n",
    "         'RPC/labels/test',\n",
    "         'RPC/supports',\n",
    "         ]\n",
    "\n",
    "for path in paths:\n",
    "    if not os.path.exists(path):\n",
    "        os.mkdir(path)"
   ]
  },
  {
   "cell_type": "code",
   "execution_count": 5,
   "metadata": {},
   "outputs": [],
   "source": [
    "\n",
    "def resize_with_padding(img, expected_size):\n",
    "    width, height = img.size\n",
    "    ratio = width / height\n",
    "    if width < height:\n",
    "        img = img.resize((int(ratio*expected_size[0]),int(expected_size[0])))\n",
    "    else:\n",
    "        img = img.resize((int(expected_size[1]),int((1/ratio)*expected_size[1])))\n",
    "        \n",
    "    img.thumbnail((expected_size[0], expected_size[1]))\n",
    "    delta_width = expected_size[0] - img.size[0]\n",
    "    delta_height = expected_size[1] - img.size[1]\n",
    "    pad_width = delta_width // 2\n",
    "    pad_height = delta_height // 2\n",
    "    padding = (pad_width, pad_height, delta_width - pad_width, delta_height - pad_height)\n",
    "    return ImageOps.expand(img, padding)"
   ]
  },
  {
   "cell_type": "code",
   "execution_count": 6,
   "metadata": {},
   "outputs": [],
   "source": [
    "def resize_label_with_padding(old_size, expected_size, bbox):\n",
    "    (x,y,w,h) = bbox\n",
    "\n",
    "    ratio = old_size[0] / old_size[1]\n",
    "    if old_size[0] < old_size[1]:\n",
    "        new = (int(ratio*expected_size[0]),int(expected_size[0]))\n",
    "    else:\n",
    "        new = (int(expected_size[1]),int((1/ratio)*expected_size[1]))\n",
    "\n",
    "    delta_width = expected_size[0] - new[0]\n",
    "    delta_height = expected_size[1] - new[1]\n",
    "\n",
    "    pad_width = delta_width // 2\n",
    "    pad_height = delta_height // 2\n",
    "\n",
    "    x_t = (pad_width +  (x)*new[0]) / expected_size[0]\n",
    "    y_t = (pad_height + (y)*new[1]) / expected_size[1]\n",
    "    w_t = w*new[0] / expected_size[0]\n",
    "    h_t = h*new[1] / expected_size[1]\n",
    "    \n",
    "    return x_t,y_t,w_t,h_t\n",
    "    "
   ]
  },
  {
   "attachments": {},
   "cell_type": "markdown",
   "metadata": {},
   "source": [
    "# PROCESSING LABEL"
   ]
  },
  {
   "cell_type": "code",
   "execution_count": 7,
   "metadata": {},
   "outputs": [
    {
     "name": "stderr",
     "output_type": "stream",
     "text": [
      "100%|██████████| 200/200 [00:23<00:00,  8.58it/s]\n"
     ]
    }
   ],
   "source": [
    "images_df = pd.DataFrame(train_data['images'])\n",
    "anns_df = pd.DataFrame(train_data['annotations'])\n",
    "category = pd.DataFrame(train_data['categories'])\n",
    "\n",
    "all = pd.merge(anns_df, images_df, left_on='image_id', right_on='id')\n",
    "\n",
    "def main():\n",
    "    for i in tqdm(range(len(category))):\n",
    "        id_list = (all.loc[anns_df['category_id'] == i+1])#prend tout les image de la catégorie X\n",
    "        id_list = id_list[id_list['file_name'].str.contains(\"camera1-30.jpg\")] # ( une face ,une back * 3 direction)\n",
    "\n",
    "        for index, row in id_list.iterrows():\n",
    "            xmin, ymin, width, height = row['bbox']\n",
    "            image = Image.open(images_train+'/'+row['file_name'])\n",
    "            #Crop for Label\n",
    "            image = image.crop((int(xmin), int(ymin), int(xmin+width), int(ymin+height)))\n",
    "            #Padding for (x,x)\n",
    "            img = resize_with_padding(image, (160,160)) \n",
    "            #Save image\n",
    "            img.save('RPC/supports/'+str(i)+'.png')\n",
    "main() # déja fait avec PhotoRoom"
   ]
  },
  {
   "attachments": {},
   "cell_type": "markdown",
   "metadata": {},
   "source": [
    "# PROCESSING IMAGE"
   ]
  },
  {
   "cell_type": "code",
   "execution_count": 7,
   "metadata": {},
   "outputs": [],
   "source": [
    "category = pd.DataFrame(test_data['categories'])\n",
    "\n",
    "images_df1 = pd.DataFrame(test_data['images'])\n",
    "anns_df1 = pd.DataFrame(test_data['annotations'])\n",
    "\n",
    "images_df2 = pd.DataFrame(val_data['images'])\n",
    "anns_df2 = pd.DataFrame(val_data['annotations'])\n",
    "\n",
    "images_df = pd.concat([images_df1, images_df2])\n",
    "anns_df = pd.concat([anns_df1,anns_df2])\n",
    "\n",
    "nb_category = len(category)"
   ]
  },
  {
   "cell_type": "code",
   "execution_count": 8,
   "metadata": {},
   "outputs": [
    {
     "data": {
      "text/plain": [
       "(367935, 13)"
      ]
     },
     "execution_count": 8,
     "metadata": {},
     "output_type": "execute_result"
    }
   ],
   "source": [
    "all = pd.merge(anns_df, images_df, left_on='image_id', right_on='id')\n",
    "all = all.sort_values(by=['category_id'])\n",
    "all.shape"
   ]
  },
  {
   "cell_type": "code",
   "execution_count": 9,
   "metadata": {},
   "outputs": [
    {
     "data": {
      "text/plain": [
       "array([  1,   2,   3,   4,   5,   6,   7,   8,   9,  10,  11,  12,  13,\n",
       "        14,  15,  16,  17,  18,  19,  20,  21,  22,  23,  24,  25,  26,\n",
       "        27,  28,  29,  30,  31,  32,  33,  34,  35,  36,  37,  38,  39,\n",
       "        40,  41,  42,  43,  44,  45,  46,  47,  48,  49,  50,  51,  52,\n",
       "        53,  54,  55,  56,  57,  58,  59,  60,  61,  62,  63,  64,  65,\n",
       "        66,  67,  68,  69,  70,  71,  72,  73,  74,  75,  76,  77,  78,\n",
       "        79,  80,  81,  82,  83,  84,  85,  86,  87,  88,  89,  90,  91,\n",
       "        92,  93,  94,  95,  96,  97,  98,  99, 100, 101, 102, 103, 104,\n",
       "       105, 106, 107, 108, 109, 110, 111, 112, 113, 114, 115, 116, 117,\n",
       "       118, 119, 120, 121, 122, 123, 124, 125, 126, 127, 128, 129, 130,\n",
       "       131, 132, 133, 134, 135, 136, 137, 138, 139, 140, 141, 142, 143,\n",
       "       144, 145, 146, 147, 148, 149, 150, 151, 152, 153, 154, 155, 156,\n",
       "       157, 158, 159, 160, 161, 162, 163, 164, 165, 166, 167, 168, 169,\n",
       "       170, 171, 172, 173, 174, 175, 176, 177, 178, 179, 180, 181, 182,\n",
       "       183, 184, 185, 186, 187, 188, 189, 190, 191, 192, 193, 194, 195,\n",
       "       196, 197, 198, 199, 200])"
      ]
     },
     "execution_count": 9,
     "metadata": {},
     "output_type": "execute_result"
    }
   ],
   "source": [
    "all['category_id'].unique()"
   ]
  },
  {
   "cell_type": "code",
   "execution_count": 10,
   "metadata": {},
   "outputs": [],
   "source": [
    "# plt.figure(figsize=(8,35))\n",
    "# result = pd.merge(all, category, how=\"outer\", left_on='category_id', right_on='id')\n",
    "# result['name'].value_counts().plot.barh()"
   ]
  },
  {
   "cell_type": "code",
   "execution_count": 11,
   "metadata": {},
   "outputs": [],
   "source": [
    "# test_merge = pd.merge(all, category, how=\"outer\", left_on='category_id', right_on='id')\n",
    "# result['supercategory'].value_counts().sort_index().plot.barh()"
   ]
  },
  {
   "cell_type": "code",
   "execution_count": 12,
   "metadata": {},
   "outputs": [
    {
     "name": "stdout",
     "output_type": "stream",
     "text": [
      "(200,)\n"
     ]
    }
   ],
   "source": [
    "# Create classes\n",
    "#classes = np.arange(200)\n",
    "#np.random.shuffle(classes)\n",
    "\n",
    "# Or export classes\n",
    "classes = np.array([192,13,55,48,141,85,36,195,150,187,6,97,148,183,135,89,198,74\n",
    ",42,197,95,62,10,43,188,189,30,59,171,76,193,28,100,58,143,91\n",
    ",67,79,26,32,146,176,70,96,75,144,133,190,145,18,164,104,7,1\n",
    ",165,138,181,178,33,158,114,105,21,186,3,174,159,41,69,117,110,185\n",
    ",12,175,82,54,24,92,72,119,157,77,194,128,122,121,113,180,87,52\n",
    ",103,20,152,71,4,136,125,151,80,172,170,156,63,154,45,0,160,35\n",
    ",112,46,90,107,109,51,14,106,37,83,168,101,5,81,53,22,9,137\n",
    ",163,177,124,31,179,19,116,134,27,57,126,78,118,15,120,167,142,196\n",
    ",147,131,23,86,68,38,184,166,65,39,139,84,34,127,47,140,199,94\n",
    ",66,108,173,44,191,182,130,64,40,11,73,123,149,129,161,155,99,61\n",
    ",93,169,50,153,8,162,132,16,2,115,88,56,98,25,49,102,111,17\n",
    ",60,29])\n",
    "classes += 1 # aucune classes 0, la première est 1 ^^ ( remove after)\n",
    "\n",
    "print(classes.shape)"
   ]
  },
  {
   "cell_type": "code",
   "execution_count": 13,
   "metadata": {},
   "outputs": [
    {
     "name": "stdout",
     "output_type": "stream",
     "text": [
      "(160,)\n",
      "(40,)\n"
     ]
    }
   ],
   "source": [
    "print(classes[:160].shape)\n",
    "print(classes[160:].shape)"
   ]
  },
  {
   "cell_type": "code",
   "execution_count": 14,
   "metadata": {},
   "outputs": [
    {
     "name": "stdout",
     "output_type": "stream",
     "text": [
      "(295431, 13) (72504, 13)\n"
     ]
    }
   ],
   "source": [
    "TrainValid = all.loc[all['category_id'].isin(classes[:160])]\n",
    "Test = all.loc[all['category_id'].isin(classes[160:])]\n",
    "print(TrainValid.shape, Test.shape)"
   ]
  },
  {
   "cell_type": "code",
   "execution_count": 16,
   "metadata": {},
   "outputs": [
    {
     "name": "stdout",
     "output_type": "stream",
     "text": [
      "(200,)\n"
     ]
    }
   ],
   "source": [
    "print(all['category_id'].unique().shape)"
   ]
  },
  {
   "cell_type": "code",
   "execution_count": 17,
   "metadata": {},
   "outputs": [
    {
     "name": "stdout",
     "output_type": "stream",
     "text": [
      "(160,)\n",
      "(40,)\n"
     ]
    }
   ],
   "source": [
    "print(TrainValid['category_id'].unique().shape)\n",
    "print(Test['category_id'].unique().shape)"
   ]
  },
  {
   "attachments": {},
   "cell_type": "markdown",
   "metadata": {},
   "source": [
    "# PROCESSING JSON"
   ]
  },
  {
   "cell_type": "code",
   "execution_count": 18,
   "metadata": {},
   "outputs": [
    {
     "name": "stdout",
     "output_type": "stream",
     "text": [
      "(20958,) (8982,) (21561,)\n"
     ]
    }
   ],
   "source": [
    "Train_image = TrainValid.groupby(['file_name'])['file_name'].nunique().sample(frac=0.7)\n",
    "Val_image = TrainValid.groupby(['file_name'])['file_name'].nunique().drop(Train_image.index)\n",
    "Test_image = Test.groupby(['file_name'])['file_name'].nunique()\n",
    "\n",
    "print(Train_image.shape, Val_image.shape, Test_image.shape)"
   ]
  },
  {
   "cell_type": "code",
   "execution_count": 19,
   "metadata": {},
   "outputs": [
    {
     "name": "stdout",
     "output_type": "stream",
     "text": [
      "(205932, 13) (89499, 13) (72504, 13)\n"
     ]
    }
   ],
   "source": [
    "Train = TrainValid.loc[TrainValid['file_name'].isin(Train_image.index)]\n",
    "Valid = TrainValid.loc[TrainValid['file_name'].isin(Val_image.index)]\n",
    "print(Train.shape, Valid.shape, Test.shape)"
   ]
  },
  {
   "cell_type": "code",
   "execution_count": 20,
   "metadata": {},
   "outputs": [
    {
     "name": "stdout",
     "output_type": "stream",
     "text": [
      "(160,)\n",
      "(160,)\n",
      "(40,)\n"
     ]
    }
   ],
   "source": [
    "print(Train['category_id'].unique().shape)\n",
    "print(Valid['category_id'].unique().shape)\n",
    "print(Test['category_id'].unique().shape)"
   ]
  },
  {
   "cell_type": "code",
   "execution_count": 21,
   "metadata": {},
   "outputs": [
    {
     "data": {
      "text/html": [
       "<div>\n",
       "<style scoped>\n",
       "    .dataframe tbody tr th:only-of-type {\n",
       "        vertical-align: middle;\n",
       "    }\n",
       "\n",
       "    .dataframe tbody tr th {\n",
       "        vertical-align: top;\n",
       "    }\n",
       "\n",
       "    .dataframe thead th {\n",
       "        text-align: right;\n",
       "    }\n",
       "</style>\n",
       "<table border=\"1\" class=\"dataframe\">\n",
       "  <thead>\n",
       "    <tr style=\"text-align: right;\">\n",
       "      <th></th>\n",
       "      <th>category_id</th>\n",
       "      <th>area</th>\n",
       "      <th>bbox</th>\n",
       "      <th>id_x</th>\n",
       "      <th>image_id</th>\n",
       "      <th>iscrowd</th>\n",
       "      <th>segmentation</th>\n",
       "      <th>point_xy</th>\n",
       "      <th>file_name</th>\n",
       "      <th>width</th>\n",
       "      <th>height</th>\n",
       "      <th>id_y</th>\n",
       "      <th>level</th>\n",
       "      <th>supercategory</th>\n",
       "      <th>id</th>\n",
       "      <th>name</th>\n",
       "    </tr>\n",
       "  </thead>\n",
       "  <tbody>\n",
       "    <tr>\n",
       "      <th>0</th>\n",
       "      <td>1</td>\n",
       "      <td>248999.12</td>\n",
       "      <td>[421.06, 614.7, 442.22, 563.07]</td>\n",
       "      <td>153064</td>\n",
       "      <td>17167</td>\n",
       "      <td>0</td>\n",
       "      <td>[[]]</td>\n",
       "      <td>[642.17, 896.24]</td>\n",
       "      <td>20181022-10-09-45-2551.jpg</td>\n",
       "      <td>1865</td>\n",
       "      <td>1865</td>\n",
       "      <td>17167</td>\n",
       "      <td>medium</td>\n",
       "      <td>puffed_food</td>\n",
       "      <td>1</td>\n",
       "      <td>1_puffed_food</td>\n",
       "    </tr>\n",
       "    <tr>\n",
       "      <th>1</th>\n",
       "      <td>2</td>\n",
       "      <td>221471.16</td>\n",
       "      <td>[642.28, 407.48, 539.68, 410.38]</td>\n",
       "      <td>5632</td>\n",
       "      <td>1285</td>\n",
       "      <td>0</td>\n",
       "      <td>[[]]</td>\n",
       "      <td>[912.12, 612.67]</td>\n",
       "      <td>20180831-15-01-23-2418.jpg</td>\n",
       "      <td>1808</td>\n",
       "      <td>1808</td>\n",
       "      <td>1285</td>\n",
       "      <td>easy</td>\n",
       "      <td>puffed_food</td>\n",
       "      <td>2</td>\n",
       "      <td>2_puffed_food</td>\n",
       "    </tr>\n",
       "    <tr>\n",
       "      <th>2</th>\n",
       "      <td>4</td>\n",
       "      <td>302243.28</td>\n",
       "      <td>[394.02, 177.09, 512.06, 590.25]</td>\n",
       "      <td>263116</td>\n",
       "      <td>24494</td>\n",
       "      <td>0</td>\n",
       "      <td>[[]]</td>\n",
       "      <td>[650.05, 472.22]</td>\n",
       "      <td>20181010-11-16-01-2897.jpg</td>\n",
       "      <td>1854</td>\n",
       "      <td>1854</td>\n",
       "      <td>24494</td>\n",
       "      <td>hard</td>\n",
       "      <td>puffed_food</td>\n",
       "      <td>4</td>\n",
       "      <td>4_puffed_food</td>\n",
       "    </tr>\n",
       "    <tr>\n",
       "      <th>3</th>\n",
       "      <td>5</td>\n",
       "      <td>276611.89</td>\n",
       "      <td>[508.08, 1081.3, 454.53, 608.57]</td>\n",
       "      <td>250865</td>\n",
       "      <td>23767</td>\n",
       "      <td>0</td>\n",
       "      <td>[[]]</td>\n",
       "      <td>[735.35, 1385.59]</td>\n",
       "      <td>20180927-14-09-09-1796.jpg</td>\n",
       "      <td>1856</td>\n",
       "      <td>1856</td>\n",
       "      <td>23767</td>\n",
       "      <td>hard</td>\n",
       "      <td>puffed_food</td>\n",
       "      <td>5</td>\n",
       "      <td>5_puffed_food</td>\n",
       "    </tr>\n",
       "    <tr>\n",
       "      <th>4</th>\n",
       "      <td>6</td>\n",
       "      <td>312756.57</td>\n",
       "      <td>[620.12, 957.56, 552.61, 565.96]</td>\n",
       "      <td>124404</td>\n",
       "      <td>14905</td>\n",
       "      <td>0</td>\n",
       "      <td>[[]]</td>\n",
       "      <td>[896.42, 1240.54]</td>\n",
       "      <td>20181023-10-02-26-3307.jpg</td>\n",
       "      <td>1818</td>\n",
       "      <td>1818</td>\n",
       "      <td>14905</td>\n",
       "      <td>medium</td>\n",
       "      <td>puffed_food</td>\n",
       "      <td>6</td>\n",
       "      <td>6_puffed_food</td>\n",
       "    </tr>\n",
       "    <tr>\n",
       "      <th>...</th>\n",
       "      <td>...</td>\n",
       "      <td>...</td>\n",
       "      <td>...</td>\n",
       "      <td>...</td>\n",
       "      <td>...</td>\n",
       "      <td>...</td>\n",
       "      <td>...</td>\n",
       "      <td>...</td>\n",
       "      <td>...</td>\n",
       "      <td>...</td>\n",
       "      <td>...</td>\n",
       "      <td>...</td>\n",
       "      <td>...</td>\n",
       "      <td>...</td>\n",
       "      <td>...</td>\n",
       "      <td>...</td>\n",
       "    </tr>\n",
       "    <tr>\n",
       "      <th>155</th>\n",
       "      <td>195</td>\n",
       "      <td>24009.97</td>\n",
       "      <td>[266.01, 1343.06, 107.7, 222.92]</td>\n",
       "      <td>180427</td>\n",
       "      <td>19153</td>\n",
       "      <td>0</td>\n",
       "      <td>[[]]</td>\n",
       "      <td>[319.86, 1454.52]</td>\n",
       "      <td>20180919-15-59-14-1154.jpg</td>\n",
       "      <td>1841</td>\n",
       "      <td>1841</td>\n",
       "      <td>19153</td>\n",
       "      <td>medium</td>\n",
       "      <td>stationery</td>\n",
       "      <td>195</td>\n",
       "      <td>195_stationery</td>\n",
       "    </tr>\n",
       "    <tr>\n",
       "      <th>156</th>\n",
       "      <td>196</td>\n",
       "      <td>240035.44</td>\n",
       "      <td>[371.42, 7.57, 615.19, 390.18]</td>\n",
       "      <td>229084</td>\n",
       "      <td>22406</td>\n",
       "      <td>0</td>\n",
       "      <td>[[]]</td>\n",
       "      <td>[679.02, 202.66]</td>\n",
       "      <td>20180919-11-39-22-1122.jpg</td>\n",
       "      <td>1836</td>\n",
       "      <td>1836</td>\n",
       "      <td>22406</td>\n",
       "      <td>hard</td>\n",
       "      <td>stationery</td>\n",
       "      <td>196</td>\n",
       "      <td>196_stationery</td>\n",
       "    </tr>\n",
       "    <tr>\n",
       "      <th>157</th>\n",
       "      <td>197</td>\n",
       "      <td>140701.36</td>\n",
       "      <td>[1344.81, 824.17, 366.64, 383.75]</td>\n",
       "      <td>173533</td>\n",
       "      <td>18660</td>\n",
       "      <td>0</td>\n",
       "      <td>[[]]</td>\n",
       "      <td>[1528.13, 1016.04]</td>\n",
       "      <td>20181017-11-28-52-2114.jpg</td>\n",
       "      <td>1821</td>\n",
       "      <td>1821</td>\n",
       "      <td>18660</td>\n",
       "      <td>medium</td>\n",
       "      <td>stationery</td>\n",
       "      <td>197</td>\n",
       "      <td>197_stationery</td>\n",
       "    </tr>\n",
       "    <tr>\n",
       "      <th>158</th>\n",
       "      <td>198</td>\n",
       "      <td>21877.76</td>\n",
       "      <td>[1061.12, 1122.37, 308.49, 70.92]</td>\n",
       "      <td>237268</td>\n",
       "      <td>22917</td>\n",
       "      <td>0</td>\n",
       "      <td>[[]]</td>\n",
       "      <td>[1215.36, 1157.83]</td>\n",
       "      <td>20181010-17-05-14-3173.jpg</td>\n",
       "      <td>1830</td>\n",
       "      <td>1830</td>\n",
       "      <td>22917</td>\n",
       "      <td>hard</td>\n",
       "      <td>stationery</td>\n",
       "      <td>198</td>\n",
       "      <td>198_stationery</td>\n",
       "    </tr>\n",
       "    <tr>\n",
       "      <th>159</th>\n",
       "      <td>199</td>\n",
       "      <td>141291.98</td>\n",
       "      <td>[376.12, 1043.15, 368.29, 383.64]</td>\n",
       "      <td>58110</td>\n",
       "      <td>8615</td>\n",
       "      <td>0</td>\n",
       "      <td>[[]]</td>\n",
       "      <td>[560.26, 1234.97]</td>\n",
       "      <td>20180827-16-52-13-328.jpg</td>\n",
       "      <td>1818</td>\n",
       "      <td>1818</td>\n",
       "      <td>8615</td>\n",
       "      <td>easy</td>\n",
       "      <td>stationery</td>\n",
       "      <td>199</td>\n",
       "      <td>199_stationery</td>\n",
       "    </tr>\n",
       "  </tbody>\n",
       "</table>\n",
       "<p>160 rows × 16 columns</p>\n",
       "</div>"
      ],
      "text/plain": [
       "     category_id       area                               bbox    id_x  \\\n",
       "0              1  248999.12    [421.06, 614.7, 442.22, 563.07]  153064   \n",
       "1              2  221471.16   [642.28, 407.48, 539.68, 410.38]    5632   \n",
       "2              4  302243.28   [394.02, 177.09, 512.06, 590.25]  263116   \n",
       "3              5  276611.89   [508.08, 1081.3, 454.53, 608.57]  250865   \n",
       "4              6  312756.57   [620.12, 957.56, 552.61, 565.96]  124404   \n",
       "..           ...        ...                                ...     ...   \n",
       "155          195   24009.97   [266.01, 1343.06, 107.7, 222.92]  180427   \n",
       "156          196  240035.44     [371.42, 7.57, 615.19, 390.18]  229084   \n",
       "157          197  140701.36  [1344.81, 824.17, 366.64, 383.75]  173533   \n",
       "158          198   21877.76  [1061.12, 1122.37, 308.49, 70.92]  237268   \n",
       "159          199  141291.98  [376.12, 1043.15, 368.29, 383.64]   58110   \n",
       "\n",
       "     image_id  iscrowd segmentation            point_xy  \\\n",
       "0       17167        0         [[]]    [642.17, 896.24]   \n",
       "1        1285        0         [[]]    [912.12, 612.67]   \n",
       "2       24494        0         [[]]    [650.05, 472.22]   \n",
       "3       23767        0         [[]]   [735.35, 1385.59]   \n",
       "4       14905        0         [[]]   [896.42, 1240.54]   \n",
       "..        ...      ...          ...                 ...   \n",
       "155     19153        0         [[]]   [319.86, 1454.52]   \n",
       "156     22406        0         [[]]    [679.02, 202.66]   \n",
       "157     18660        0         [[]]  [1528.13, 1016.04]   \n",
       "158     22917        0         [[]]  [1215.36, 1157.83]   \n",
       "159      8615        0         [[]]   [560.26, 1234.97]   \n",
       "\n",
       "                      file_name  width  height   id_y   level supercategory  \\\n",
       "0    20181022-10-09-45-2551.jpg   1865    1865  17167  medium   puffed_food   \n",
       "1    20180831-15-01-23-2418.jpg   1808    1808   1285    easy   puffed_food   \n",
       "2    20181010-11-16-01-2897.jpg   1854    1854  24494    hard   puffed_food   \n",
       "3    20180927-14-09-09-1796.jpg   1856    1856  23767    hard   puffed_food   \n",
       "4    20181023-10-02-26-3307.jpg   1818    1818  14905  medium   puffed_food   \n",
       "..                          ...    ...     ...    ...     ...           ...   \n",
       "155  20180919-15-59-14-1154.jpg   1841    1841  19153  medium    stationery   \n",
       "156  20180919-11-39-22-1122.jpg   1836    1836  22406    hard    stationery   \n",
       "157  20181017-11-28-52-2114.jpg   1821    1821  18660  medium    stationery   \n",
       "158  20181010-17-05-14-3173.jpg   1830    1830  22917    hard    stationery   \n",
       "159   20180827-16-52-13-328.jpg   1818    1818   8615    easy    stationery   \n",
       "\n",
       "      id            name  \n",
       "0      1   1_puffed_food  \n",
       "1      2   2_puffed_food  \n",
       "2      4   4_puffed_food  \n",
       "3      5   5_puffed_food  \n",
       "4      6   6_puffed_food  \n",
       "..   ...             ...  \n",
       "155  195  195_stationery  \n",
       "156  196  196_stationery  \n",
       "157  197  197_stationery  \n",
       "158  198  198_stationery  \n",
       "159  199  199_stationery  \n",
       "\n",
       "[160 rows x 16 columns]"
      ]
     },
     "execution_count": 21,
     "metadata": {},
     "output_type": "execute_result"
    }
   ],
   "source": [
    "train_merge = pd.merge(Train, category, how=\"left\", left_on='category_id', right_on='id')\n",
    "train_merge.groupby('category_id', as_index=False).first()"
   ]
  },
  {
   "cell_type": "code",
   "execution_count": 22,
   "metadata": {},
   "outputs": [],
   "source": [
    "train_merge = pd.merge(Train, category, how=\"left\", left_on='category_id', right_on='id')\n",
    "valid_merge = pd.merge(Valid, category, how=\"left\", left_on='category_id', right_on='id')\n",
    "test_merge = pd.merge(Test, category, how=\"left\", left_on='category_id', right_on='id')\n",
    "\n",
    "# df = pd.DataFrame({'Train/Valid': train_merge.groupby('category_id', as_index=False).first()['supercategory'].value_counts(),\n",
    "# #                   'Valid':  valid_merge.groupby('category_id', as_index=False).first()['supercategory'].value_counts(),\n",
    "#                    'Test': test_merge.groupby('category_id', as_index=False).first()['supercategory'].value_counts()})\n",
    "#df.plot.barh(stacked=True,color={\"Train\": \"darkred\", \"Valid\": \"tab:olive\",'Test':\"darkblue\"})\n",
    "# df.plot.barh(stacked=True,color={\"Train/Valid\": \"darkred\", 'Test':\"darkblue\"})"
   ]
  },
  {
   "cell_type": "code",
   "execution_count": 23,
   "metadata": {},
   "outputs": [],
   "source": [
    "# df = pd.DataFrame({'Train': train_merge['name'].value_counts(),\n",
    "#                    'Valid': valid_merge['name'].value_counts(),\n",
    "#                    'Test':test_merge['name'].value_counts()})\n",
    "# df.plot.barh(stacked=True,figsize=(8,35),color={\"Train\": \"darkred\", \"Valid\": \"tab:olive\",'Test':\"darkblue\"})"
   ]
  },
  {
   "cell_type": "code",
   "execution_count": 24,
   "metadata": {},
   "outputs": [],
   "source": [
    "def saveImage(list_image, path):\n",
    "    for name in tqdm(list_image.keys()):\n",
    "        if(os.path.exists(PATH+'test2019/'+name)):\n",
    "            image = Image.open(PATH+'test2019/'+name)\n",
    "        else:\n",
    "            image = Image.open(PATH+'val2019/'+name)\n",
    "        image = resize_with_padding(image, (640,640))\n",
    "        image.save(path+name[:-4]+'.png')\n",
    "                "
   ]
  },
  {
   "cell_type": "code",
   "execution_count": 25,
   "metadata": {},
   "outputs": [
    {
     "name": "stderr",
     "output_type": "stream",
     "text": [
      "100%|██████████| 20958/20958 [1:31:03<00:00,  3.84it/s]\n"
     ]
    }
   ],
   "source": [
    "saveImage(Train_image,'RPC/images/train/')"
   ]
  },
  {
   "cell_type": "code",
   "execution_count": 26,
   "metadata": {},
   "outputs": [
    {
     "name": "stderr",
     "output_type": "stream",
     "text": [
      "100%|██████████| 8982/8982 [52:48<00:00,  2.83it/s]\n"
     ]
    }
   ],
   "source": [
    "saveImage(Val_image,'RPC/images/valid/')"
   ]
  },
  {
   "cell_type": "code",
   "execution_count": 27,
   "metadata": {},
   "outputs": [
    {
     "name": "stderr",
     "output_type": "stream",
     "text": [
      "100%|██████████| 21561/21561 [1:30:56<00:00,  3.95it/s]\n"
     ]
    }
   ],
   "source": [
    "saveImage(Test_image,'RPC/images/test/')"
   ]
  },
  {
   "cell_type": "code",
   "execution_count": 33,
   "metadata": {},
   "outputs": [],
   "source": [
    "def savetxt(list_image, merge, path):\n",
    "    for name in tqdm(list_image.keys()):\n",
    "        annotation = merge.loc[merge['file_name'] == name]\n",
    "\n",
    "        with open(path+name[:-4]+'.txt', 'wt') as f:\n",
    "            for box,width,height,c in zip(annotation['bbox'],annotation['width'],annotation['height'],annotation['category_id']):\n",
    "                (xmin,ymin,w,h) = box\n",
    "                cx = (xmin+w/2)/width\n",
    "                cy = (ymin+h/2)/height\n",
    "                h = h/height\n",
    "                w = w/width\n",
    "                cx,cy,w,h = resize_label_with_padding((width,height), (640,640), (cx,cy,w,h))\n",
    "                s = str(c-1)+' '+str(cx)+' '+str(cy)+' '+str(w)+' '+str(h)+' \\n'\n",
    "                f.write(s)"
   ]
  },
  {
   "cell_type": "code",
   "execution_count": 34,
   "metadata": {},
   "outputs": [
    {
     "name": "stderr",
     "output_type": "stream",
     "text": [
      "100%|██████████| 20958/20958 [07:35<00:00, 46.06it/s]\n"
     ]
    }
   ],
   "source": [
    "savetxt(Train_image,train_merge, 'RPC/labels/train/')"
   ]
  },
  {
   "cell_type": "code",
   "execution_count": 35,
   "metadata": {},
   "outputs": [
    {
     "name": "stderr",
     "output_type": "stream",
     "text": [
      "100%|██████████| 8982/8982 [01:22<00:00, 108.92it/s]\n"
     ]
    }
   ],
   "source": [
    "savetxt(Val_image,valid_merge, 'RPC/labels/valid/')"
   ]
  },
  {
   "cell_type": "code",
   "execution_count": 36,
   "metadata": {},
   "outputs": [
    {
     "name": "stderr",
     "output_type": "stream",
     "text": [
      "  0%|          | 0/21561 [00:00<?, ?it/s]"
     ]
    },
    {
     "name": "stderr",
     "output_type": "stream",
     "text": [
      "100%|██████████| 21561/21561 [02:50<00:00, 126.81it/s]\n"
     ]
    }
   ],
   "source": [
    "savetxt(Test_image,test_merge, 'RPC/labels/test/')"
   ]
  },
  {
   "cell_type": "code",
   "execution_count": 37,
   "metadata": {},
   "outputs": [],
   "source": [
    "with open('RPC/data.yaml', 'wt') as f:\n",
    "    f.write('train: ../images/train \\n')\n",
    "    f.write('val: ../images/valid \\n')\n",
    "    f.write('test: ../images/test \\n')\n",
    "    f.write('support: ../supports/ \\n')\n",
    "    f.write(' \\n')\n",
    "    f.write('nc: 201 \\n')"
   ]
  },
  {
   "cell_type": "code",
   "execution_count": null,
   "metadata": {},
   "outputs": [],
   "source": []
  }
 ],
 "metadata": {
  "kernelspec": {
   "display_name": "Python 3.8.10 64-bit",
   "language": "python",
   "name": "python3"
  },
  "language_info": {
   "codemirror_mode": {
    "name": "ipython",
    "version": 3
   },
   "file_extension": ".py",
   "mimetype": "text/x-python",
   "name": "python",
   "nbconvert_exporter": "python",
   "pygments_lexer": "ipython3",
   "version": "3.10.8"
  },
  "orig_nbformat": 4,
  "vscode": {
   "interpreter": {
    "hash": "916dbcbb3f70747c44a77c7bcd40155683ae19c65e1c03b4aa3499c5328201f1"
   }
  }
 },
 "nbformat": 4,
 "nbformat_minor": 2
}
