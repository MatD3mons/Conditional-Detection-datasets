{
 "cells": [
  {
   "cell_type": "code",
   "execution_count": 1,
   "metadata": {},
   "outputs": [],
   "source": [
    "import numpy as np\n",
    "import pandas as pd\n",
    "import json\n",
    "from PIL import Image, ImageOps\n",
    "from tqdm import tqdm"
   ]
  },
  {
   "cell_type": "code",
   "execution_count": 2,
   "metadata": {},
   "outputs": [],
   "source": [
    "def load_json(jfile):\n",
    "    with open(jfile, 'rb') as f:\n",
    "        return json.load(f)"
   ]
  },
  {
   "cell_type": "code",
   "execution_count": 3,
   "metadata": {},
   "outputs": [],
   "source": [
    "PATH = '/media/nas/BasesDeDonnees/retail_product_checkout/'\n",
    "\n",
    "images_test = PATH+'test2019'\n",
    "images_train = PATH+'train2019'\n",
    "images_val = PATH+'val2019'\n",
    "\n",
    "test = PATH+'instances_test2019.json'\n",
    "train = PATH+'instances_train2019.json'\n",
    "val = PATH+'instances_val2019.json'\n",
    "\n",
    "test_data = load_json(test)\n",
    "train_data = load_json(train)\n",
    "val_data = load_json(val)"
   ]
  },
  {
   "cell_type": "code",
   "execution_count": 4,
   "metadata": {},
   "outputs": [],
   "source": [
    "import os\n",
    "\n",
    "paths = ['images',\n",
    "         'images/train',\n",
    "         'images/valid',\n",
    "         'images/test',\n",
    "         'labels',\n",
    "         'labels/train',\n",
    "         'labels/valid',\n",
    "         'labels/test',\n",
    "         'supports']\n",
    "\n",
    "for path in paths:\n",
    "    if not os.path.exists(path):\n",
    "        os.mkdir(path)"
   ]
  },
  {
   "cell_type": "code",
   "execution_count": 5,
   "metadata": {},
   "outputs": [],
   "source": [
    "def resize_with_padding(img, expected_size, colors=(114,114,114)):\n",
    "    width, height = img.size\n",
    "    ratio = width / height\n",
    "    if width < height:\n",
    "        img = img.resize((int(ratio*expected_size[0]),int(expected_size[0])))\n",
    "    else:\n",
    "        img = img.resize((int(expected_size[1]),int((1/ratio)*expected_size[1])))\n",
    "        \n",
    "    img.thumbnail((expected_size[0], expected_size[1]))\n",
    "    delta_width = expected_size[0] - img.size[0]\n",
    "    delta_height = expected_size[1] - img.size[1]\n",
    "    pad_width = delta_width // 2\n",
    "    pad_height = delta_height // 2\n",
    "    padding = (pad_width, pad_height, delta_width - pad_width, delta_height - pad_height)\n",
    "    return ImageOps.expand(img, padding, colors)"
   ]
  },
  {
   "cell_type": "code",
   "execution_count": 6,
   "metadata": {},
   "outputs": [],
   "source": [
    "def resize_label_with_padding(old_size, expected_size, bbox):\n",
    "    (x,y,w,h) = bbox\n",
    "\n",
    "    ratio = old_size[0] / old_size[1]\n",
    "    if old_size[0] < old_size[1]:\n",
    "        new = (int(ratio*expected_size[0]),int(expected_size[0]))\n",
    "    else:\n",
    "        new = (int(expected_size[1]),int((1/ratio)*expected_size[1]))\n",
    "\n",
    "    delta_width = expected_size[0] - new[0]\n",
    "    delta_height = expected_size[1] - new[1]\n",
    "\n",
    "    pad_width = delta_width // 2\n",
    "    pad_height = delta_height // 2\n",
    "\n",
    "    x_t = (pad_width +  (x)*new[0]) / expected_size[0]\n",
    "    y_t = (pad_height + (y)*new[1]) / expected_size[1]\n",
    "    w_t = w*new[0] / expected_size[0]\n",
    "    h_t = h*new[1] / expected_size[1]\n",
    "    \n",
    "    return x_t,y_t,w_t,h_t\n",
    "    "
   ]
  },
  {
   "attachments": {},
   "cell_type": "markdown",
   "metadata": {},
   "source": [
    "# PROCESSING LABEL"
   ]
  },
  {
   "cell_type": "code",
   "execution_count": 7,
   "metadata": {},
   "outputs": [
    {
     "name": "stderr",
     "output_type": "stream",
     "text": [
      "100%|██████████| 200/200 [00:37<00:00,  5.34it/s]\n"
     ]
    }
   ],
   "source": [
    "images_df = pd.DataFrame(train_data['images'])\n",
    "anns_df = pd.DataFrame(train_data['annotations'])\n",
    "category = pd.DataFrame(train_data['categories'])\n",
    "\n",
    "all = pd.merge(anns_df, images_df, left_on='image_id', right_on='id')\n",
    "\n",
    "def main():\n",
    "    for i in tqdm(range(len(category))):\n",
    "        id_list = (all.loc[anns_df['category_id'] == i+1])#prend tout les image de la catégorie X\n",
    "        id_list = id_list[id_list['file_name'].str.contains(\"camera1-30.jpg\")] # ( une face ,une back * 3 direction)\n",
    "\n",
    "        for index, row in id_list.iterrows():\n",
    "            xmin, ymin, width, height = row['bbox']\n",
    "            image = Image.open(images_train+'/'+row['file_name'])\n",
    "            #Crop for Label\n",
    "            image = image.crop((int(xmin), int(ymin), int(xmin+width), int(ymin+height)))\n",
    "            #Padding for (x,x)\n",
    "            img = resize_with_padding(image, (160,160), (0,0,0)) \n",
    "            #Save image\n",
    "            if not os.path.exists('supports/'+str(i)):\n",
    "                os.mkdir('supports/'+str(i))    \n",
    "            img.save('supports/'+str(i)+'/0.png')\n",
    "main() # déja fait avec PhotoRoom"
   ]
  },
  {
   "attachments": {},
   "cell_type": "markdown",
   "metadata": {},
   "source": [
    "# PROCESSING IMAGE"
   ]
  },
  {
   "cell_type": "code",
   "execution_count": 8,
   "metadata": {},
   "outputs": [],
   "source": [
    "category = pd.DataFrame(test_data['categories'])\n",
    "\n",
    "images_df1 = pd.DataFrame(test_data['images'])\n",
    "anns_df1 = pd.DataFrame(test_data['annotations'])\n",
    "\n",
    "images_df2 = pd.DataFrame(val_data['images'])\n",
    "anns_df2 = pd.DataFrame(val_data['annotations'])\n",
    "\n",
    "images_df = pd.concat([images_df1, images_df2])\n",
    "anns_df = pd.concat([anns_df1,anns_df2])\n",
    "\n",
    "nb_category = len(category)"
   ]
  },
  {
   "cell_type": "code",
   "execution_count": 9,
   "metadata": {},
   "outputs": [
    {
     "data": {
      "text/plain": [
       "(367935, 13)"
      ]
     },
     "execution_count": 9,
     "metadata": {},
     "output_type": "execute_result"
    }
   ],
   "source": [
    "all = pd.merge(anns_df, images_df, left_on='image_id', right_on='id')\n",
    "all = all.sort_values(by=['category_id'])\n",
    "all.shape"
   ]
  },
  {
   "cell_type": "code",
   "execution_count": 10,
   "metadata": {},
   "outputs": [
    {
     "data": {
      "text/plain": [
       "array([  1,   2,   3,   4,   5,   6,   7,   8,   9,  10,  11,  12,  13,\n",
       "        14,  15,  16,  17,  18,  19,  20,  21,  22,  23,  24,  25,  26,\n",
       "        27,  28,  29,  30,  31,  32,  33,  34,  35,  36,  37,  38,  39,\n",
       "        40,  41,  42,  43,  44,  45,  46,  47,  48,  49,  50,  51,  52,\n",
       "        53,  54,  55,  56,  57,  58,  59,  60,  61,  62,  63,  64,  65,\n",
       "        66,  67,  68,  69,  70,  71,  72,  73,  74,  75,  76,  77,  78,\n",
       "        79,  80,  81,  82,  83,  84,  85,  86,  87,  88,  89,  90,  91,\n",
       "        92,  93,  94,  95,  96,  97,  98,  99, 100, 101, 102, 103, 104,\n",
       "       105, 106, 107, 108, 109, 110, 111, 112, 113, 114, 115, 116, 117,\n",
       "       118, 119, 120, 121, 122, 123, 124, 125, 126, 127, 128, 129, 130,\n",
       "       131, 132, 133, 134, 135, 136, 137, 138, 139, 140, 141, 142, 143,\n",
       "       144, 145, 146, 147, 148, 149, 150, 151, 152, 153, 154, 155, 156,\n",
       "       157, 158, 159, 160, 161, 162, 163, 164, 165, 166, 167, 168, 169,\n",
       "       170, 171, 172, 173, 174, 175, 176, 177, 178, 179, 180, 181, 182,\n",
       "       183, 184, 185, 186, 187, 188, 189, 190, 191, 192, 193, 194, 195,\n",
       "       196, 197, 198, 199, 200])"
      ]
     },
     "execution_count": 10,
     "metadata": {},
     "output_type": "execute_result"
    }
   ],
   "source": [
    "all['category_id'].unique()"
   ]
  },
  {
   "cell_type": "code",
   "execution_count": 11,
   "metadata": {},
   "outputs": [],
   "source": [
    "# plt.figure(figsize=(8,35))\n",
    "# result = pd.merge(all, category, how=\"outer\", left_on='category_id', right_on='id')\n",
    "# result['name'].value_counts().plot.barh()"
   ]
  },
  {
   "cell_type": "code",
   "execution_count": 12,
   "metadata": {},
   "outputs": [],
   "source": [
    "# test_merge = pd.merge(all, category, how=\"outer\", left_on='category_id', right_on='id')\n",
    "# result['supercategory'].value_counts().sort_index().plot.barh()"
   ]
  },
  {
   "cell_type": "code",
   "execution_count": 13,
   "metadata": {},
   "outputs": [
    {
     "name": "stdout",
     "output_type": "stream",
     "text": [
      "(200,)\n"
     ]
    }
   ],
   "source": [
    "# Create classes\n",
    "#classes = np.arange(200)\n",
    "#np.random.shuffle(classes)\n",
    "\n",
    "# Or export classes\n",
    "classes = np.array([192,13,55,48,141,85,36,195,150,187,6,97,148,183,135,89,198,74\n",
    ",42,197,95,62,10,43,188,189,30,59,171,76,193,28,100,58,143,91\n",
    ",67,79,26,32,146,176,70,96,75,144,133,190,145,18,164,104,7,1\n",
    ",165,138,181,178,33,158,114,105,21,186,3,174,159,41,69,117,110,185\n",
    ",12,175,82,54,24,92,72,119,157,77,194,128,122,121,113,180,87,52\n",
    ",103,20,152,71,4,136,125,151,80,172,170,156,63,154,45,0,160,35\n",
    ",112,46,90,107,109,51,14,106,37,83,168,101,5,81,53,22,9,137\n",
    ",163,177,124,31,179,19,116,134,27,57,126,78,118,15,120,167,142,196\n",
    ",147,131,23,86,68,38,184,166,65,39,139,84,34,127,47,140,199,94\n",
    ",66,108,173,44,191,182,130,64,40,11,73,123,149,129,161,155,99,61\n",
    ",93,169,50,153,8,162,132,16,2,115,88,56,98,25,49,102,111,17\n",
    ",60,29])\n",
    "classes += 1 # aucune classes 0, la première est 1 ^^ ( remove after)\n",
    "\n",
    "print(classes.shape)"
   ]
  },
  {
   "cell_type": "code",
   "execution_count": 14,
   "metadata": {},
   "outputs": [
    {
     "name": "stdout",
     "output_type": "stream",
     "text": [
      "(160,)\n",
      "(40,)\n"
     ]
    }
   ],
   "source": [
    "print(classes[:160].shape)\n",
    "print(classes[160:].shape)"
   ]
  },
  {
   "cell_type": "code",
   "execution_count": 15,
   "metadata": {},
   "outputs": [
    {
     "name": "stdout",
     "output_type": "stream",
     "text": [
      "(295431, 13) (72504, 13)\n"
     ]
    }
   ],
   "source": [
    "TrainValid = all.loc[all['category_id'].isin(classes[:160])]\n",
    "Test = all.loc[all['category_id'].isin(classes[160:])]\n",
    "print(TrainValid.shape, Test.shape)"
   ]
  },
  {
   "cell_type": "code",
   "execution_count": 16,
   "metadata": {},
   "outputs": [
    {
     "name": "stdout",
     "output_type": "stream",
     "text": [
      "(200,)\n"
     ]
    }
   ],
   "source": [
    "print(all['category_id'].unique().shape)"
   ]
  },
  {
   "cell_type": "code",
   "execution_count": 17,
   "metadata": {},
   "outputs": [
    {
     "name": "stdout",
     "output_type": "stream",
     "text": [
      "(160,)\n",
      "(40,)\n"
     ]
    }
   ],
   "source": [
    "print(TrainValid['category_id'].unique().shape)\n",
    "print(Test['category_id'].unique().shape)"
   ]
  },
  {
   "attachments": {},
   "cell_type": "markdown",
   "metadata": {},
   "source": [
    "# PROCESSING JSON"
   ]
  },
  {
   "cell_type": "code",
   "execution_count": 18,
   "metadata": {},
   "outputs": [
    {
     "name": "stdout",
     "output_type": "stream",
     "text": [
      "(20958,) (8982,) (21561,)\n"
     ]
    }
   ],
   "source": [
    "Train_image = TrainValid.groupby(['file_name'])['file_name'].nunique().sample(frac=0.7)\n",
    "Val_image = TrainValid.groupby(['file_name'])['file_name'].nunique().drop(Train_image.index)\n",
    "Test_image = Test.groupby(['file_name'])['file_name'].nunique()\n",
    "\n",
    "print(Train_image.shape, Val_image.shape, Test_image.shape)"
   ]
  },
  {
   "cell_type": "code",
   "execution_count": 19,
   "metadata": {},
   "outputs": [
    {
     "name": "stdout",
     "output_type": "stream",
     "text": [
      "(206696, 13) (88735, 13) (72504, 13)\n"
     ]
    }
   ],
   "source": [
    "Train = TrainValid.loc[TrainValid['file_name'].isin(Train_image.index)]\n",
    "Valid = TrainValid.loc[TrainValid['file_name'].isin(Val_image.index)]\n",
    "print(Train.shape, Valid.shape, Test.shape)"
   ]
  },
  {
   "cell_type": "code",
   "execution_count": 20,
   "metadata": {},
   "outputs": [
    {
     "name": "stdout",
     "output_type": "stream",
     "text": [
      "(160,)\n",
      "(160,)\n",
      "(40,)\n"
     ]
    }
   ],
   "source": [
    "print(Train['category_id'].unique().shape)\n",
    "print(Valid['category_id'].unique().shape)\n",
    "print(Test['category_id'].unique().shape)"
   ]
  },
  {
   "cell_type": "code",
   "execution_count": 21,
   "metadata": {},
   "outputs": [
    {
     "data": {
      "text/html": [
       "<div>\n",
       "<style scoped>\n",
       "    .dataframe tbody tr th:only-of-type {\n",
       "        vertical-align: middle;\n",
       "    }\n",
       "\n",
       "    .dataframe tbody tr th {\n",
       "        vertical-align: top;\n",
       "    }\n",
       "\n",
       "    .dataframe thead th {\n",
       "        text-align: right;\n",
       "    }\n",
       "</style>\n",
       "<table border=\"1\" class=\"dataframe\">\n",
       "  <thead>\n",
       "    <tr style=\"text-align: right;\">\n",
       "      <th></th>\n",
       "      <th>category_id</th>\n",
       "      <th>area</th>\n",
       "      <th>bbox</th>\n",
       "      <th>id_x</th>\n",
       "      <th>image_id</th>\n",
       "      <th>iscrowd</th>\n",
       "      <th>segmentation</th>\n",
       "      <th>point_xy</th>\n",
       "      <th>file_name</th>\n",
       "      <th>width</th>\n",
       "      <th>height</th>\n",
       "      <th>id_y</th>\n",
       "      <th>level</th>\n",
       "      <th>supercategory</th>\n",
       "      <th>id</th>\n",
       "      <th>name</th>\n",
       "    </tr>\n",
       "  </thead>\n",
       "  <tbody>\n",
       "    <tr>\n",
       "      <th>0</th>\n",
       "      <td>1</td>\n",
       "      <td>248999.12</td>\n",
       "      <td>[421.06, 614.7, 442.22, 563.07]</td>\n",
       "      <td>153064</td>\n",
       "      <td>17167</td>\n",
       "      <td>0</td>\n",
       "      <td>[[]]</td>\n",
       "      <td>[642.17, 896.24]</td>\n",
       "      <td>20181022-10-09-45-2551.jpg</td>\n",
       "      <td>1865</td>\n",
       "      <td>1865</td>\n",
       "      <td>17167</td>\n",
       "      <td>medium</td>\n",
       "      <td>puffed_food</td>\n",
       "      <td>1</td>\n",
       "      <td>1_puffed_food</td>\n",
       "    </tr>\n",
       "    <tr>\n",
       "      <th>1</th>\n",
       "      <td>2</td>\n",
       "      <td>233270.38</td>\n",
       "      <td>[662.35, 50.06, 503.22, 463.56]</td>\n",
       "      <td>109780</td>\n",
       "      <td>13683</td>\n",
       "      <td>0</td>\n",
       "      <td>[[]]</td>\n",
       "      <td>[913.96, 281.84]</td>\n",
       "      <td>20180920-10-17-27-1160.jpg</td>\n",
       "      <td>1822</td>\n",
       "      <td>1822</td>\n",
       "      <td>13683</td>\n",
       "      <td>medium</td>\n",
       "      <td>puffed_food</td>\n",
       "      <td>2</td>\n",
       "      <td>2_puffed_food</td>\n",
       "    </tr>\n",
       "    <tr>\n",
       "      <th>2</th>\n",
       "      <td>4</td>\n",
       "      <td>423593.45</td>\n",
       "      <td>[583.77, 5.04, 652.2, 649.49]</td>\n",
       "      <td>275926</td>\n",
       "      <td>25248</td>\n",
       "      <td>0</td>\n",
       "      <td>[[]]</td>\n",
       "      <td>[909.87, 329.79]</td>\n",
       "      <td>20181011-11-22-19-2996.jpg</td>\n",
       "      <td>1854</td>\n",
       "      <td>1854</td>\n",
       "      <td>25248</td>\n",
       "      <td>hard</td>\n",
       "      <td>puffed_food</td>\n",
       "      <td>4</td>\n",
       "      <td>4_puffed_food</td>\n",
       "    </tr>\n",
       "    <tr>\n",
       "      <th>3</th>\n",
       "      <td>5</td>\n",
       "      <td>276611.89</td>\n",
       "      <td>[508.08, 1081.3, 454.53, 608.57]</td>\n",
       "      <td>250865</td>\n",
       "      <td>23767</td>\n",
       "      <td>0</td>\n",
       "      <td>[[]]</td>\n",
       "      <td>[735.35, 1385.59]</td>\n",
       "      <td>20180927-14-09-09-1796.jpg</td>\n",
       "      <td>1856</td>\n",
       "      <td>1856</td>\n",
       "      <td>23767</td>\n",
       "      <td>hard</td>\n",
       "      <td>puffed_food</td>\n",
       "      <td>5</td>\n",
       "      <td>5_puffed_food</td>\n",
       "    </tr>\n",
       "    <tr>\n",
       "      <th>4</th>\n",
       "      <td>6</td>\n",
       "      <td>426529.93</td>\n",
       "      <td>[172.65, 935.21, 654.32, 651.86]</td>\n",
       "      <td>124399</td>\n",
       "      <td>14904</td>\n",
       "      <td>0</td>\n",
       "      <td>[[]]</td>\n",
       "      <td>[499.81, 1261.14]</td>\n",
       "      <td>20181023-10-02-16-3307.jpg</td>\n",
       "      <td>1808</td>\n",
       "      <td>1808</td>\n",
       "      <td>14904</td>\n",
       "      <td>medium</td>\n",
       "      <td>puffed_food</td>\n",
       "      <td>6</td>\n",
       "      <td>6_puffed_food</td>\n",
       "    </tr>\n",
       "    <tr>\n",
       "      <th>...</th>\n",
       "      <td>...</td>\n",
       "      <td>...</td>\n",
       "      <td>...</td>\n",
       "      <td>...</td>\n",
       "      <td>...</td>\n",
       "      <td>...</td>\n",
       "      <td>...</td>\n",
       "      <td>...</td>\n",
       "      <td>...</td>\n",
       "      <td>...</td>\n",
       "      <td>...</td>\n",
       "      <td>...</td>\n",
       "      <td>...</td>\n",
       "      <td>...</td>\n",
       "      <td>...</td>\n",
       "      <td>...</td>\n",
       "    </tr>\n",
       "    <tr>\n",
       "      <th>155</th>\n",
       "      <td>195</td>\n",
       "      <td>24009.97</td>\n",
       "      <td>[266.01, 1343.06, 107.7, 222.92]</td>\n",
       "      <td>180427</td>\n",
       "      <td>19153</td>\n",
       "      <td>0</td>\n",
       "      <td>[[]]</td>\n",
       "      <td>[319.86, 1454.52]</td>\n",
       "      <td>20180919-15-59-14-1154.jpg</td>\n",
       "      <td>1841</td>\n",
       "      <td>1841</td>\n",
       "      <td>19153</td>\n",
       "      <td>medium</td>\n",
       "      <td>stationery</td>\n",
       "      <td>195</td>\n",
       "      <td>195_stationery</td>\n",
       "    </tr>\n",
       "    <tr>\n",
       "      <th>156</th>\n",
       "      <td>196</td>\n",
       "      <td>401964.80</td>\n",
       "      <td>[696.02, 620.9, 697.41, 576.37]</td>\n",
       "      <td>229079</td>\n",
       "      <td>22405</td>\n",
       "      <td>0</td>\n",
       "      <td>[[]]</td>\n",
       "      <td>[1044.72, 909.09]</td>\n",
       "      <td>20180919-11-39-10-1122.jpg</td>\n",
       "      <td>1820</td>\n",
       "      <td>1820</td>\n",
       "      <td>22405</td>\n",
       "      <td>hard</td>\n",
       "      <td>stationery</td>\n",
       "      <td>196</td>\n",
       "      <td>196_stationery</td>\n",
       "    </tr>\n",
       "    <tr>\n",
       "      <th>157</th>\n",
       "      <td>197</td>\n",
       "      <td>140701.36</td>\n",
       "      <td>[1344.81, 824.17, 366.64, 383.75]</td>\n",
       "      <td>173533</td>\n",
       "      <td>18660</td>\n",
       "      <td>0</td>\n",
       "      <td>[[]]</td>\n",
       "      <td>[1528.13, 1016.04]</td>\n",
       "      <td>20181017-11-28-52-2114.jpg</td>\n",
       "      <td>1821</td>\n",
       "      <td>1821</td>\n",
       "      <td>18660</td>\n",
       "      <td>medium</td>\n",
       "      <td>stationery</td>\n",
       "      <td>197</td>\n",
       "      <td>197_stationery</td>\n",
       "    </tr>\n",
       "    <tr>\n",
       "      <th>158</th>\n",
       "      <td>198</td>\n",
       "      <td>29112.03</td>\n",
       "      <td>[913.09, 1210.02, 307.29, 94.74]</td>\n",
       "      <td>237285</td>\n",
       "      <td>22918</td>\n",
       "      <td>0</td>\n",
       "      <td>[[]]</td>\n",
       "      <td>[1066.74, 1257.39]</td>\n",
       "      <td>20181010-17-05-31-3173.jpg</td>\n",
       "      <td>1860</td>\n",
       "      <td>1860</td>\n",
       "      <td>22918</td>\n",
       "      <td>hard</td>\n",
       "      <td>stationery</td>\n",
       "      <td>198</td>\n",
       "      <td>198_stationery</td>\n",
       "    </tr>\n",
       "    <tr>\n",
       "      <th>159</th>\n",
       "      <td>199</td>\n",
       "      <td>227228.90</td>\n",
       "      <td>[67.53, 742.91, 469.29, 484.19]</td>\n",
       "      <td>24466</td>\n",
       "      <td>4387</td>\n",
       "      <td>0</td>\n",
       "      <td>[[]]</td>\n",
       "      <td>[302.18, 985.0]</td>\n",
       "      <td>20180904-09-37-46-3130.jpg</td>\n",
       "      <td>1830</td>\n",
       "      <td>1830</td>\n",
       "      <td>4387</td>\n",
       "      <td>easy</td>\n",
       "      <td>stationery</td>\n",
       "      <td>199</td>\n",
       "      <td>199_stationery</td>\n",
       "    </tr>\n",
       "  </tbody>\n",
       "</table>\n",
       "<p>160 rows × 16 columns</p>\n",
       "</div>"
      ],
      "text/plain": [
       "     category_id       area                               bbox    id_x  \\\n",
       "0              1  248999.12    [421.06, 614.7, 442.22, 563.07]  153064   \n",
       "1              2  233270.38    [662.35, 50.06, 503.22, 463.56]  109780   \n",
       "2              4  423593.45      [583.77, 5.04, 652.2, 649.49]  275926   \n",
       "3              5  276611.89   [508.08, 1081.3, 454.53, 608.57]  250865   \n",
       "4              6  426529.93   [172.65, 935.21, 654.32, 651.86]  124399   \n",
       "..           ...        ...                                ...     ...   \n",
       "155          195   24009.97   [266.01, 1343.06, 107.7, 222.92]  180427   \n",
       "156          196  401964.80    [696.02, 620.9, 697.41, 576.37]  229079   \n",
       "157          197  140701.36  [1344.81, 824.17, 366.64, 383.75]  173533   \n",
       "158          198   29112.03   [913.09, 1210.02, 307.29, 94.74]  237285   \n",
       "159          199  227228.90    [67.53, 742.91, 469.29, 484.19]   24466   \n",
       "\n",
       "     image_id  iscrowd segmentation            point_xy  \\\n",
       "0       17167        0         [[]]    [642.17, 896.24]   \n",
       "1       13683        0         [[]]    [913.96, 281.84]   \n",
       "2       25248        0         [[]]    [909.87, 329.79]   \n",
       "3       23767        0         [[]]   [735.35, 1385.59]   \n",
       "4       14904        0         [[]]   [499.81, 1261.14]   \n",
       "..        ...      ...          ...                 ...   \n",
       "155     19153        0         [[]]   [319.86, 1454.52]   \n",
       "156     22405        0         [[]]   [1044.72, 909.09]   \n",
       "157     18660        0         [[]]  [1528.13, 1016.04]   \n",
       "158     22918        0         [[]]  [1066.74, 1257.39]   \n",
       "159      4387        0         [[]]     [302.18, 985.0]   \n",
       "\n",
       "                      file_name  width  height   id_y   level supercategory  \\\n",
       "0    20181022-10-09-45-2551.jpg   1865    1865  17167  medium   puffed_food   \n",
       "1    20180920-10-17-27-1160.jpg   1822    1822  13683  medium   puffed_food   \n",
       "2    20181011-11-22-19-2996.jpg   1854    1854  25248    hard   puffed_food   \n",
       "3    20180927-14-09-09-1796.jpg   1856    1856  23767    hard   puffed_food   \n",
       "4    20181023-10-02-16-3307.jpg   1808    1808  14904  medium   puffed_food   \n",
       "..                          ...    ...     ...    ...     ...           ...   \n",
       "155  20180919-15-59-14-1154.jpg   1841    1841  19153  medium    stationery   \n",
       "156  20180919-11-39-10-1122.jpg   1820    1820  22405    hard    stationery   \n",
       "157  20181017-11-28-52-2114.jpg   1821    1821  18660  medium    stationery   \n",
       "158  20181010-17-05-31-3173.jpg   1860    1860  22918    hard    stationery   \n",
       "159  20180904-09-37-46-3130.jpg   1830    1830   4387    easy    stationery   \n",
       "\n",
       "      id            name  \n",
       "0      1   1_puffed_food  \n",
       "1      2   2_puffed_food  \n",
       "2      4   4_puffed_food  \n",
       "3      5   5_puffed_food  \n",
       "4      6   6_puffed_food  \n",
       "..   ...             ...  \n",
       "155  195  195_stationery  \n",
       "156  196  196_stationery  \n",
       "157  197  197_stationery  \n",
       "158  198  198_stationery  \n",
       "159  199  199_stationery  \n",
       "\n",
       "[160 rows x 16 columns]"
      ]
     },
     "execution_count": 21,
     "metadata": {},
     "output_type": "execute_result"
    }
   ],
   "source": [
    "train_merge = pd.merge(Train, category, how=\"left\", left_on='category_id', right_on='id')\n",
    "train_merge.groupby('category_id', as_index=False).first()"
   ]
  },
  {
   "cell_type": "code",
   "execution_count": 22,
   "metadata": {},
   "outputs": [],
   "source": [
    "train_merge = pd.merge(Train, category, how=\"left\", left_on='category_id', right_on='id')\n",
    "valid_merge = pd.merge(Valid, category, how=\"left\", left_on='category_id', right_on='id')\n",
    "test_merge = pd.merge(Test, category, how=\"left\", left_on='category_id', right_on='id')\n",
    "\n",
    "# df = pd.DataFrame({'Train/Valid': train_merge.groupby('category_id', as_index=False).first()['supercategory'].value_counts(),\n",
    "# #                   'Valid':  valid_merge.groupby('category_id', as_index=False).first()['supercategory'].value_counts(),\n",
    "#                    'Test': test_merge.groupby('category_id', as_index=False).first()['supercategory'].value_counts()})\n",
    "#df.plot.barh(stacked=True,color={\"Train\": \"darkred\", \"Valid\": \"tab:olive\",'Test':\"darkblue\"})\n",
    "# df.plot.barh(stacked=True,color={\"Train/Valid\": \"darkred\", 'Test':\"darkblue\"})"
   ]
  },
  {
   "cell_type": "code",
   "execution_count": 23,
   "metadata": {},
   "outputs": [],
   "source": [
    "# df = pd.DataFrame({'Train': train_merge['name'].value_counts(),\n",
    "#                    'Valid': valid_merge['name'].value_counts(),\n",
    "#                    'Test':test_merge['name'].value_counts()})\n",
    "# df.plot.barh(stacked=True,figsize=(8,35),color={\"Train\": \"darkred\", \"Valid\": \"tab:olive\",'Test':\"darkblue\"})"
   ]
  },
  {
   "cell_type": "code",
   "execution_count": 24,
   "metadata": {},
   "outputs": [],
   "source": [
    "def saveImage(list_image, path):\n",
    "    for name in tqdm(list_image.keys()):\n",
    "        if(os.path.exists(PATH+'test2019/'+name)):\n",
    "            image = Image.open(PATH+'test2019/'+name)\n",
    "        else:\n",
    "            image = Image.open(PATH+'val2019/'+name)\n",
    "        image = resize_with_padding(image, (640,640))\n",
    "        image.save(path+name[:-4]+'.png')\n",
    "                "
   ]
  },
  {
   "cell_type": "code",
   "execution_count": 25,
   "metadata": {},
   "outputs": [
    {
     "name": "stderr",
     "output_type": "stream",
     "text": [
      "100%|██████████| 20958/20958 [1:20:38<00:00,  4.33it/s]\n"
     ]
    }
   ],
   "source": [
    "saveImage(Train_image,'images/train/')"
   ]
  },
  {
   "cell_type": "code",
   "execution_count": 26,
   "metadata": {},
   "outputs": [
    {
     "name": "stderr",
     "output_type": "stream",
     "text": [
      "100%|██████████| 8982/8982 [32:21<00:00,  4.63it/s]\n"
     ]
    }
   ],
   "source": [
    "saveImage(Val_image,'images/valid/')"
   ]
  },
  {
   "cell_type": "code",
   "execution_count": 27,
   "metadata": {},
   "outputs": [
    {
     "name": "stderr",
     "output_type": "stream",
     "text": [
      "100%|██████████| 21561/21561 [1:14:11<00:00,  4.84it/s]\n"
     ]
    }
   ],
   "source": [
    "saveImage(Test_image,'images/test/')"
   ]
  },
  {
   "cell_type": "code",
   "execution_count": 28,
   "metadata": {},
   "outputs": [],
   "source": [
    "def savetxt(list_image, merge, path):\n",
    "    for name in tqdm(list_image.keys()):\n",
    "        annotation = merge.loc[merge['file_name'] == name]\n",
    "\n",
    "        with open(path+name[:-4]+'.txt', 'wt') as f:\n",
    "            for box,width,height,c in zip(annotation['bbox'],annotation['width'],annotation['height'],annotation['category_id']):\n",
    "                (xmin,ymin,w,h) = box\n",
    "                cx = (xmin+w/2)/width\n",
    "                cy = (ymin+h/2)/height\n",
    "                h = h/height\n",
    "                w = w/width\n",
    "                cx,cy,w,h = resize_label_with_padding((width,height), (640,640), (cx,cy,w,h))\n",
    "                s = str(c-1)+' '+str(cx)+' '+str(cy)+' '+str(w)+' '+str(h)+' \\n'\n",
    "                f.write(s)"
   ]
  },
  {
   "cell_type": "code",
   "execution_count": 29,
   "metadata": {},
   "outputs": [
    {
     "name": "stderr",
     "output_type": "stream",
     "text": [
      "  0%|          | 0/20958 [00:00<?, ?it/s]"
     ]
    },
    {
     "name": "stderr",
     "output_type": "stream",
     "text": [
      "100%|██████████| 20958/20958 [06:51<00:00, 50.89it/s]\n"
     ]
    }
   ],
   "source": [
    "savetxt(Train_image,train_merge, 'labels/train/')"
   ]
  },
  {
   "cell_type": "code",
   "execution_count": 30,
   "metadata": {},
   "outputs": [
    {
     "name": "stderr",
     "output_type": "stream",
     "text": [
      "  0%|          | 0/8982 [00:00<?, ?it/s]"
     ]
    },
    {
     "name": "stderr",
     "output_type": "stream",
     "text": [
      "100%|██████████| 8982/8982 [01:16<00:00, 117.28it/s]\n"
     ]
    }
   ],
   "source": [
    "savetxt(Val_image,valid_merge, 'labels/valid/')"
   ]
  },
  {
   "cell_type": "code",
   "execution_count": 31,
   "metadata": {},
   "outputs": [
    {
     "name": "stderr",
     "output_type": "stream",
     "text": [
      "100%|██████████| 21561/21561 [03:22<00:00, 106.35it/s]\n"
     ]
    }
   ],
   "source": [
    "savetxt(Test_image,test_merge, 'labels/test/')"
   ]
  },
  {
   "cell_type": "code",
   "execution_count": 32,
   "metadata": {},
   "outputs": [],
   "source": [
    "with open('data.yaml', 'wt') as f:\n",
    "    f.write('train: images/train \\n')\n",
    "    f.write('val: images/valid \\n')\n",
    "    f.write('test: images/test \\n')\n",
    "    f.write('support: supports/ \\n')\n",
    "    f.write(' \\n')\n",
    "    f.write('nc: 201 \\n')"
   ]
  },
  {
   "cell_type": "code",
   "execution_count": 4,
   "metadata": {},
   "outputs": [
    {
     "name": "stderr",
     "output_type": "stream",
     "text": [
      "100%|██████████| 20958/20958 [00:00<00:00, 37734.84it/s]\n",
      "100%|██████████| 8982/8982 [00:00<00:00, 34132.94it/s]\n",
      "100%|██████████| 21561/21561 [00:00<00:00, 44037.03it/s]\n"
     ]
    },
    {
     "name": "stdout",
     "output_type": "stream",
     "text": [
      "Int64Index([  0,   1,   2,   3,   4,   5,   6,   7,   8,   9,\n",
      "            ...\n",
      "            190, 191, 192, 193, 194, 195, 196, 197, 198, 199],\n",
      "           dtype='int64', length=200)\n",
      "200\n"
     ]
    },
    {
     "data": {
      "image/png": "[encoded data removed]",
      "text/plain": [
       "<Figure size 2500x500 with 1 Axes>"
      ]
     },
     "metadata": {},
     "output_type": "display_data"
    }
   ],
   "source": [
    "import pandas as pd\n",
    "import glob\n",
    "from tqdm import tqdm\n",
    "import matplotlib.pyplot as plt\n",
    "\n",
    "def load_labels(file_paths):\n",
    "    \"\"\"Charge les labels de plusieurs fichiers et retourne une DataFrame.\"\"\"\n",
    "    labels = []\n",
    "    for file_path in tqdm(file_paths):\n",
    "        with open(file_path) as f:\n",
    "            for line in f:\n",
    "                labels.append(line.split(\" \")[0])\n",
    "    return pd.DataFrame({\"support\": labels})\n",
    "\n",
    "def process_data(train_files, val_files, test_files):\n",
    "    \"\"\"Traite les fichiers et retourne un DataFrame combiné.\"\"\"\n",
    "    # Charger les données\n",
    "    aa = load_labels(train_files).astype(int)\n",
    "    bb = load_labels(val_files).astype(int)\n",
    "    cc = load_labels(test_files).astype(int)\n",
    "\n",
    "    # Comptage des valeurs\n",
    "    counta = aa[\"support\"].value_counts()\n",
    "    countb = bb[\"support\"].value_counts()\n",
    "    countc = cc[\"support\"].value_counts()\n",
    "\n",
    "    # Fusionner les classes uniques\n",
    "    classes = pd.concat([counta, countb, countc]).index.unique()\n",
    "    classes = pd.to_numeric(classes).sort_values()\n",
    "\n",
    "    return classes, counta, countb, countc\n",
    "\n",
    "def plot_data(classes, counta, countb, countc):\n",
    "    \"\"\"Trace les graphiques de type barres empilées.\"\"\"\n",
    "    # Initialisation des dictionnaires avec 0 pour chaque classe\n",
    "    listea = {cls: counta.get(cls, 0) for cls in classes}\n",
    "    listeb = {cls: countb.get(cls, 0) for cls in classes}\n",
    "    listec = {cls: countc.get(cls, 0) for cls in classes}\n",
    "\n",
    "    # Créer un DataFrame pour les données de barres empilées\n",
    "    df = pd.DataFrame({'Train': listea, 'Val': listeb, 'Test': listec}, index=classes)\n",
    "    df = df.sort_index(ascending=True)\n",
    "\n",
    "    position = range(len(df.index))\n",
    "\n",
    "    # Créer le graphique\n",
    "    fig, ax = plt.subplots(figsize=(25,5))\n",
    "    ax.bar(position, df['Train'], label='Train')\n",
    "    ax.bar(position, df['Val'], bottom=df['Train'], label='Val_Base')\n",
    "    ax.bar(position, df['Test'], bottom=df['Train'] + df['Val'], label='Val_Novel')\n",
    "\n",
    "    # Ajouter les éléments au graphique\n",
    "    ax.legend()\n",
    "    ax.set_xticks(position)  # Définir seulement les positions de l'index existant\n",
    "    ax.set_xticklabels(df.index, rotation=90)\n",
    "    ax.set_xlim(min(position) - 1, max(position) + 1)\n",
    "    plt.tight_layout()\n",
    "    plt.show()\n",
    "\n",
    "#plt.style.use(\"dark_background\")\n",
    "\n",
    "# Main\n",
    "a = 'labels'\n",
    "train_files = glob.glob(f'{a}/train/*.txt')\n",
    "val_files = glob.glob(f'{a}/valid/*.txt')\n",
    "test_files = glob.glob(f'{a}/test/*.txt')\n",
    "\n",
    "classes, counta, countb, countc = process_data(train_files, val_files, test_files)\n",
    "print(classes)\n",
    "print(len(classes))\n",
    "plot_data(classes, counta, countb, countc)"
   ]
  },
  {
   "cell_type": "code",
   "execution_count": null,
   "metadata": {},
   "outputs": [],
   "source": []
  }
 ],
 "metadata": {
  "kernelspec": {
   "display_name": "RPC",
   "language": "python",
   "name": "python3"
  },
  "language_info": {
   "codemirror_mode": {
    "name": "ipython",
    "version": 3
   },
   "file_extension": ".py",
   "mimetype": "text/x-python",
   "name": "python",
   "nbconvert_exporter": "python",
   "pygments_lexer": "ipython3",
   "version": "3.10.8"
  },
  "orig_nbformat": 4
 },
 "nbformat": 4,
 "nbformat_minor": 2
}
