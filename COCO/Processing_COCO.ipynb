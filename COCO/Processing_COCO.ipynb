{
 "cells": [
  {
   "cell_type": "code",
   "execution_count": null,
   "metadata": {},
   "outputs": [
    {
     "name": "stderr",
     "output_type": "stream",
     "text": [
      "Downloading http://images.cocodataset.org/zips/train2017.zip to 'COCO/images/train2017.zip'...\n",
      "Downloading http://images.cocodataset.org/zips/test2017.zip to 'COCO/images/test2017.zip'...\n",
      "WARNING ⚠️ Skipping COCO/images/val2017.zip unzip as destination directory COCO/images/val2017 is not empty.\n"
     ]
    }
   ],
   "source": [
    "path = \"COCO\" # dataset root dir\n",
    "train = \"train2017.txt\" # train images (relative to 'path') 118287 images\n",
    "val = \"val2017.txt\" # val images (relative to 'path') 5000 images\n",
    "test = \"test-dev2017.txt\" # 20288 of 40670 images, submit to https://competitions.codalab.org/competitions/20794\n",
    "\n",
    "# Classes\n",
    "names = {\n",
    "  0: \"person\",\n",
    "  1: \"bicycle\",\n",
    "  2: \"car\",\n",
    "  3: \"motorcycle\",\n",
    "  4: \"airplane\",\n",
    "  5: \"bus\",\n",
    "  6: \"train\",\n",
    "  7: \"truck\",\n",
    "  8: \"boat\",\n",
    "  9: \"traffic light\",\n",
    "  10: \"fire hydrant\",\n",
    "  11: \"stop sign\",\n",
    "  12: \"parking meter\",\n",
    "  13: \"bench\",\n",
    "  14: \"bird\",\n",
    "  15: \"cat\",\n",
    "  16: \"dog\",\n",
    "  17: \"horse\",\n",
    "  18: \"sheep\",\n",
    "  19: \"cow\",\n",
    "  20: \"elephant\",\n",
    "  21: \"bear\",\n",
    "  22: \"zebra\",\n",
    "  23: \"giraffe\",\n",
    "  24: \"backpack\",\n",
    "  25: \"umbrella\",\n",
    "  26: \"handbag\",\n",
    "  27: \"tie\",\n",
    "  28: \"suitcase\",\n",
    "  29: \"frisbee\",\n",
    "  30: \"skis\",\n",
    "  31: \"snowboard\",\n",
    "  32: \"sports ball\",\n",
    "  33: \"kite\",\n",
    "  34: \"baseball bat\",\n",
    "  35: \"baseball glove\",\n",
    "  36: \"skateboard\",\n",
    "  37: \"surfboard\",\n",
    "  38: \"tennis racket\",\n",
    "  39: \"bottle\",\n",
    "  40: \"wine glass\",\n",
    "  41: \"cup\",\n",
    "  42: \"fork\",\n",
    "  43: \"knife\",\n",
    "  44: \"spoon\",\n",
    "  45: \"bowl\",\n",
    "  46: \"banana\",\n",
    "  47: \"apple\",\n",
    "  48: \"sandwich\",\n",
    "  49: \"orange\",\n",
    "  50: \"broccoli\",\n",
    "  51: \"carrot\",\n",
    "  52: \"hot dog\",\n",
    "  53: \"pizza\",\n",
    "  54: \"donut\",\n",
    "  55: \"cake\",\n",
    "  56: \"chair\",\n",
    "  57: \"couch\",\n",
    "  58: \"potted plant\",\n",
    "  59: \"bed\",\n",
    "  60: \"dining table\",\n",
    "  61: \"toilet\",\n",
    "  62: \"tv\",\n",
    "  63: \"laptop\",\n",
    "  64: \"mouse\",\n",
    "  65: \"remote\",\n",
    "  66: \"keyboard\",\n",
    "  67: \"cell phone\",\n",
    "  68: \"microwave\",\n",
    "  69: \"oven\",\n",
    "  70: \"toaster\",\n",
    "  71: \"sink\",\n",
    "  72: \"refrigerator\",\n",
    "  73: \"book\",\n",
    "  74: \"clock\",\n",
    "  75: \"vase\",\n",
    "  76: \"scissors\",\n",
    "  77: \"teddy bear\",\n",
    "  78: \"hair drier\",\n",
    "  79: \"toothbrush\"}\n",
    "\n",
    "\n",
    "import sys\n",
    "sys.path.append('../../')\n",
    "\n",
    "\n",
    "from ultralytics.utils.downloads import download\n",
    "from pathlib import Path\n",
    "import os\n",
    "\n",
    "# Download labels\n",
    "segments = False  # segment or box labels\n",
    "dir = Path(path)  # dataset root dir\n",
    "url = 'https://github.com/ultralytics/yolov5/releases/download/v1.0/'\n",
    "urls = [url + ('coco2017labels-segments.zip' if segments else 'coco2017labels.zip')]  # labels\n",
    "# download(urls, dir=dir.parent)\n",
    "#\n",
    "# TODO move coco/* TO your path\n",
    "#\n",
    "# Download data\n",
    "urls = ['http://images.cocodataset.org/zips/train2017.zip',  # 19G, 118k images\n",
    "          'http://images.cocodataset.org/zips/val2017.zip',  # 1G, 5k images\n",
    "          'http://images.cocodataset.org/zips/test2017.zip']  # 7G, 41k images (optional)\n",
    "download(urls, dir=dir / 'images', threads=3)"
   ]
  },
  {
   "cell_type": "code",
   "execution_count": 1,
   "metadata": {},
   "outputs": [
    {
     "name": "stdout",
     "output_type": "stream",
     "text": [
      "Archive:  annotations_trainval2017.zip\n",
      "  inflating: annotations/instances_train2017.json  \n",
      "  inflating: annotations/instances_val2017.json  \n",
      "  inflating: annotations/captions_train2017.json  \n",
      "  inflating: annotations/captions_val2017.json  \n",
      "  inflating: annotations/person_keypoints_train2017.json  \n",
      "  inflating: annotations/person_keypoints_val2017.json  \n"
     ]
    }
   ],
   "source": [
    "!unzip annotations_trainval2017.zip"
   ]
  },
  {
   "cell_type": "code",
   "execution_count": 2,
   "metadata": {},
   "outputs": [],
   "source": [
    "import os\n",
    "\n",
    "paths = ['images',\n",
    "         'images/train',\n",
    "         'images/valid',\n",
    "         'images/test',\n",
    "         'labels',\n",
    "         'labels/train',\n",
    "         'labels/valid',\n",
    "         'labels/test',\n",
    "         'supports']\n",
    "\n",
    "for path in paths:\n",
    "    for div in ['COCO1']:\n",
    "\n",
    "        if not os.path.exists(div):\n",
    "            os.mkdir(div)\n",
    "\n",
    "        if not os.path.exists(div+'/'+path):\n",
    "            os.mkdir(div+'/'+path)\n",
    "\n",
    "for div in ['COCO1']:\n",
    "    for i in range(80):\n",
    "        if not os.path.exists(div+'/supports/'+str(i)):\n",
    "            os.mkdir(div+'/supports/'+str(i))    "
   ]
  },
  {
   "cell_type": "code",
   "execution_count": 3,
   "metadata": {},
   "outputs": [],
   "source": [
    "import numpy as np\n",
    "import pandas as pd\n",
    "import json\n",
    "from PIL import Image, ImageOps\n",
    "from tqdm import tqdm\n",
    "\n",
    "def load_json(jfile):\n",
    "    with open(jfile, 'rb') as f:\n",
    "        return json.load(f)"
   ]
  },
  {
   "cell_type": "code",
   "execution_count": 4,
   "metadata": {},
   "outputs": [],
   "source": [
    "def resize_with_padding(img, expected_size, colors=(114,114,114)):\n",
    "    width, height = img.size\n",
    "    ratio = width / height\n",
    "    if width < height:\n",
    "        img = img.resize((int(ratio*expected_size[0]),int(expected_size[0])))\n",
    "    else:\n",
    "        img = img.resize((int(expected_size[1]),int((1/ratio)*expected_size[1])))\n",
    "        \n",
    "    img.thumbnail((expected_size[0], expected_size[1]))\n",
    "    delta_width = expected_size[0] - img.size[0]\n",
    "    delta_height = expected_size[1] - img.size[1]\n",
    "    pad_width = delta_width // 2\n",
    "    pad_height = delta_height // 2\n",
    "    padding = (pad_width, pad_height, delta_width - pad_width, delta_height - pad_height)\n",
    "    return ImageOps.expand(img, padding, colors)"
   ]
  },
  {
   "cell_type": "code",
   "execution_count": 5,
   "metadata": {},
   "outputs": [],
   "source": [
    "def resize_label_with_padding(old_size, expected_size, bbox):\n",
    "    (x,y,w,h) = bbox\n",
    "\n",
    "    ratio = old_size[0] / old_size[1]\n",
    "    if old_size[0] < old_size[1]:\n",
    "        new = (int(ratio*expected_size[0]),int(expected_size[0]))\n",
    "    else:\n",
    "        new = (int(expected_size[1]),int((1/ratio)*expected_size[1]))\n",
    "\n",
    "    delta_width = expected_size[0] - new[0]\n",
    "    delta_height = expected_size[1] - new[1]\n",
    "\n",
    "    pad_width = delta_width // 2\n",
    "    pad_height = delta_height // 2\n",
    "\n",
    "    x_t = (pad_width +  (x)*new[0]) / expected_size[0]\n",
    "    y_t = (pad_height + (y)*new[1]) / expected_size[1]\n",
    "    w_t = w*new[0] / expected_size[0]\n",
    "    h_t = h*new[1] / expected_size[1]\n",
    "    \n",
    "    return x_t,y_t,w_t,h_t\n",
    "    "
   ]
  },
  {
   "cell_type": "code",
   "execution_count": 6,
   "metadata": {},
   "outputs": [],
   "source": [
    "PATH = ''\n",
    "\n",
    "images_train = PATH+'COCO/train2017'\n",
    "images_val = PATH+'COCO/val2017'\n",
    "\n",
    "train = PATH+'annotations/instances_train2017.json'\n",
    "val = PATH+'annotations/instances_val2017.json'\n",
    "\n",
    "train_data = load_json(train)\n",
    "val_data = load_json(val)"
   ]
  },
  {
   "cell_type": "code",
   "execution_count": 7,
   "metadata": {},
   "outputs": [
    {
     "data": {
      "text/plain": [
       "(36781, 15)"
      ]
     },
     "execution_count": 7,
     "metadata": {},
     "output_type": "execute_result"
    }
   ],
   "source": [
    "category = pd.DataFrame(val_data['categories'])\n",
    "images_df = pd.DataFrame(val_data['images'])\n",
    "anns_df = pd.DataFrame(val_data['annotations'])\n",
    "nb_category = len(category)\n",
    "\n",
    "all = pd.merge(anns_df, images_df, left_on='image_id', right_on='id')\n",
    "all = all.sort_values(by=['category_id'])\n",
    "all.shape"
   ]
  },
  {
   "cell_type": "code",
   "execution_count": 8,
   "metadata": {},
   "outputs": [
    {
     "data": {
      "text/html": [
       "<div>\n",
       "<style scoped>\n",
       "    .dataframe tbody tr th:only-of-type {\n",
       "        vertical-align: middle;\n",
       "    }\n",
       "\n",
       "    .dataframe tbody tr th {\n",
       "        vertical-align: top;\n",
       "    }\n",
       "\n",
       "    .dataframe thead th {\n",
       "        text-align: right;\n",
       "    }\n",
       "</style>\n",
       "<table border=\"1\" class=\"dataframe\">\n",
       "  <thead>\n",
       "    <tr style=\"text-align: right;\">\n",
       "      <th></th>\n",
       "      <th>segmentation</th>\n",
       "      <th>area</th>\n",
       "      <th>iscrowd</th>\n",
       "      <th>image_id</th>\n",
       "      <th>bbox</th>\n",
       "      <th>category_id</th>\n",
       "      <th>id_x</th>\n",
       "      <th>license</th>\n",
       "      <th>file_name</th>\n",
       "      <th>coco_url</th>\n",
       "      <th>height</th>\n",
       "      <th>width</th>\n",
       "      <th>date_captured</th>\n",
       "      <th>flickr_url</th>\n",
       "      <th>id_y</th>\n",
       "    </tr>\n",
       "  </thead>\n",
       "  <tbody>\n",
       "    <tr>\n",
       "      <th>27667</th>\n",
       "      <td>[[154.87, 149.64, 143.78, 130.41, 128.26, 121....</td>\n",
       "      <td>9791.35945</td>\n",
       "      <td>0</td>\n",
       "      <td>140987</td>\n",
       "      <td>[15.82, 118.58, 139.05, 316.76]</td>\n",
       "      <td>1</td>\n",
       "      <td>1709663</td>\n",
       "      <td>3</td>\n",
       "      <td>000000140987.jpg</td>\n",
       "      <td>http://images.cocodataset.org/val2017/00000014...</td>\n",
       "      <td>640</td>\n",
       "      <td>425</td>\n",
       "      <td>2013-11-21 00:03:27</td>\n",
       "      <td>http://farm9.staticflickr.com/8070/8156597598_...</td>\n",
       "      <td>140987</td>\n",
       "    </tr>\n",
       "    <tr>\n",
       "      <th>7544</th>\n",
       "      <td>[[468.91, 508.17, 469.38, 496.87, 467.3, 486.4...</td>\n",
       "      <td>297.61450</td>\n",
       "      <td>0</td>\n",
       "      <td>21839</td>\n",
       "      <td>[467.3, 471.49, 11.07, 37.84]</td>\n",
       "      <td>1</td>\n",
       "      <td>569562</td>\n",
       "      <td>3</td>\n",
       "      <td>000000021839.jpg</td>\n",
       "      <td>http://images.cocodataset.org/val2017/00000002...</td>\n",
       "      <td>640</td>\n",
       "      <td>480</td>\n",
       "      <td>2013-11-16 12:27:39</td>\n",
       "      <td>http://farm5.staticflickr.com/4080/5052955350_...</td>\n",
       "      <td>21839</td>\n",
       "    </tr>\n",
       "    <tr>\n",
       "      <th>7549</th>\n",
       "      <td>[[46.6, 463.64, 42.06, 462.73, 39.8, 460.01, 4...</td>\n",
       "      <td>541.67200</td>\n",
       "      <td>0</td>\n",
       "      <td>21839</td>\n",
       "      <td>[24.82, 453.65, 23.6, 44.48]</td>\n",
       "      <td>1</td>\n",
       "      <td>1746923</td>\n",
       "      <td>3</td>\n",
       "      <td>000000021839.jpg</td>\n",
       "      <td>http://images.cocodataset.org/val2017/00000002...</td>\n",
       "      <td>640</td>\n",
       "      <td>480</td>\n",
       "      <td>2013-11-16 12:27:39</td>\n",
       "      <td>http://farm5.staticflickr.com/4080/5052955350_...</td>\n",
       "      <td>21839</td>\n",
       "    </tr>\n",
       "    <tr>\n",
       "      <th>27605</th>\n",
       "      <td>[[352.42, 79.79, 359.06, 96.42, 450.49, 104.73...</td>\n",
       "      <td>12566.85590</td>\n",
       "      <td>0</td>\n",
       "      <td>355325</td>\n",
       "      <td>[352.42, 3.32, 125.58, 139.64]</td>\n",
       "      <td>1</td>\n",
       "      <td>2152486</td>\n",
       "      <td>3</td>\n",
       "      <td>000000355325.jpg</td>\n",
       "      <td>http://images.cocodataset.org/val2017/00000035...</td>\n",
       "      <td>640</td>\n",
       "      <td>478</td>\n",
       "      <td>2013-11-21 05:32:56</td>\n",
       "      <td>http://farm5.staticflickr.com/4075/4765748189_...</td>\n",
       "      <td>355325</td>\n",
       "    </tr>\n",
       "    <tr>\n",
       "      <th>7560</th>\n",
       "      <td>[[294.46, 312.08, 292.97, 310.59, 292.76, 291....</td>\n",
       "      <td>163.95625</td>\n",
       "      <td>0</td>\n",
       "      <td>190923</td>\n",
       "      <td>[292.76, 287.01, 6.8, 35.26]</td>\n",
       "      <td>1</td>\n",
       "      <td>1314969</td>\n",
       "      <td>4</td>\n",
       "      <td>000000190923.jpg</td>\n",
       "      <td>http://images.cocodataset.org/val2017/00000019...</td>\n",
       "      <td>500</td>\n",
       "      <td>375</td>\n",
       "      <td>2013-11-16 19:15:04</td>\n",
       "      <td>http://farm3.staticflickr.com/2669/3706332805_...</td>\n",
       "      <td>190923</td>\n",
       "    </tr>\n",
       "  </tbody>\n",
       "</table>\n",
       "</div>"
      ],
      "text/plain": [
       "                                            segmentation         area  \\\n",
       "27667  [[154.87, 149.64, 143.78, 130.41, 128.26, 121....   9791.35945   \n",
       "7544   [[468.91, 508.17, 469.38, 496.87, 467.3, 486.4...    297.61450   \n",
       "7549   [[46.6, 463.64, 42.06, 462.73, 39.8, 460.01, 4...    541.67200   \n",
       "27605  [[352.42, 79.79, 359.06, 96.42, 450.49, 104.73...  12566.85590   \n",
       "7560   [[294.46, 312.08, 292.97, 310.59, 292.76, 291....    163.95625   \n",
       "\n",
       "       iscrowd  image_id                             bbox  category_id  \\\n",
       "27667        0    140987  [15.82, 118.58, 139.05, 316.76]            1   \n",
       "7544         0     21839    [467.3, 471.49, 11.07, 37.84]            1   \n",
       "7549         0     21839     [24.82, 453.65, 23.6, 44.48]            1   \n",
       "27605        0    355325   [352.42, 3.32, 125.58, 139.64]            1   \n",
       "7560         0    190923     [292.76, 287.01, 6.8, 35.26]            1   \n",
       "\n",
       "          id_x  license         file_name  \\\n",
       "27667  1709663        3  000000140987.jpg   \n",
       "7544    569562        3  000000021839.jpg   \n",
       "7549   1746923        3  000000021839.jpg   \n",
       "27605  2152486        3  000000355325.jpg   \n",
       "7560   1314969        4  000000190923.jpg   \n",
       "\n",
       "                                                coco_url  height  width  \\\n",
       "27667  http://images.cocodataset.org/val2017/00000014...     640    425   \n",
       "7544   http://images.cocodataset.org/val2017/00000002...     640    480   \n",
       "7549   http://images.cocodataset.org/val2017/00000002...     640    480   \n",
       "27605  http://images.cocodataset.org/val2017/00000035...     640    478   \n",
       "7560   http://images.cocodataset.org/val2017/00000019...     500    375   \n",
       "\n",
       "             date_captured                                         flickr_url  \\\n",
       "27667  2013-11-21 00:03:27  http://farm9.staticflickr.com/8070/8156597598_...   \n",
       "7544   2013-11-16 12:27:39  http://farm5.staticflickr.com/4080/5052955350_...   \n",
       "7549   2013-11-16 12:27:39  http://farm5.staticflickr.com/4080/5052955350_...   \n",
       "27605  2013-11-21 05:32:56  http://farm5.staticflickr.com/4075/4765748189_...   \n",
       "7560   2013-11-16 19:15:04  http://farm3.staticflickr.com/2669/3706332805_...   \n",
       "\n",
       "         id_y  \n",
       "27667  140987  \n",
       "7544    21839  \n",
       "7549    21839  \n",
       "27605  355325  \n",
       "7560   190923  "
      ]
     },
     "execution_count": 8,
     "metadata": {},
     "output_type": "execute_result"
    }
   ],
   "source": [
    "all.head()"
   ]
  },
  {
   "cell_type": "code",
   "execution_count": 9,
   "metadata": {},
   "outputs": [
    {
     "data": {
      "text/plain": [
       "array([ 1,  2,  3,  4,  5,  6,  7,  8,  9, 10, 11, 13, 14, 15, 16, 17, 18,\n",
       "       19, 20, 21, 22, 23, 24, 25, 27, 28, 31, 32, 33, 34, 35, 36, 37, 38,\n",
       "       39, 40, 41, 42, 43, 44, 46, 47, 48, 49, 50, 51, 52, 53, 54, 55, 56,\n",
       "       57, 58, 59, 60, 61, 62, 63, 64, 65, 67, 70, 72, 73, 74, 75, 76, 77,\n",
       "       78, 79, 80, 81, 82, 84, 85, 86, 87, 88, 89, 90])"
      ]
     },
     "execution_count": 9,
     "metadata": {},
     "output_type": "execute_result"
    }
   ],
   "source": [
    "all['category_id'].unique()"
   ]
  },
  {
   "cell_type": "code",
   "execution_count": 10,
   "metadata": {},
   "outputs": [],
   "source": [
    "novel1 = [0,4,8,12,16,20,24,28,32,36,40,44,48,52,56,60,64,68,72,76]\n",
    "novel2 = [1,5,9,13,17,21,25,29,33,37,41,45,49,53,57,61,65,69,73,77]\n",
    "novel3 = [2,6,10,14,18,22,26,30,34,38,42,46,50,54,58,62,66,70,74,78]\n",
    "novel4 = [3,7,11,15,19,23,27,31,35,39,43,47,51,55,59,63,67,71,75,79]"
   ]
  },
  {
   "cell_type": "code",
   "execution_count": 11,
   "metadata": {},
   "outputs": [],
   "source": [
    "def saveImage(list_image, path, div):\n",
    "\n",
    "    lab = {}\n",
    "    for i in range(0,80):\n",
    "        lab[i] = 0\n",
    "\n",
    "    for _, row in tqdm(list_image.iterrows()):\n",
    "        c = row['category_id']-1\n",
    "        if c in div:\n",
    "            try:\n",
    "                n = row['file_name']\n",
    "                b = row['bbox']\n",
    "                width = row['width']\n",
    "                height = row['height']\n",
    "\n",
    "                image = Image.open(\"COCO/images/val2017/\"+n)\n",
    "                (xmin,ymin,w,h) = b\n",
    "                x1, x2, y1, y2 = xmin, xmin + w, ymin, ymin + h\n",
    "                img = image.crop((x1,y1,x2,y2))\n",
    "                #img = resize_with_padding(img, (160,160), (0,0,0))\n",
    "                img.save('COCO1/supports/'+str(c)+'/'+str(lab[c])+'.png')\n",
    "                lab[c] += 1\n",
    "\n",
    "                image = resize_with_padding(image, (640,640))\n",
    "                image.save(path+n[:-4]+'.png')\n",
    "\n",
    "                p = path.replace('images','labels')\n",
    "                with open(p+n[:-4]+'.txt', 'a') as f:\n",
    "                    (xmin,ymin,w,h) = b\n",
    "                    cx = (xmin+w/2)/width\n",
    "                    cy = (ymin+h/2)/height\n",
    "                    h = h/height\n",
    "                    w = w/width\n",
    "                    cx,cy,w,h = resize_label_with_padding((width,height), (640,640), (cx,cy,w,h))\n",
    "                    s = str(c)+' '+str(cx)+' '+str(cy)+' '+str(w)+' '+str(h)+' \\n'\n",
    "                    f.write(s)\n",
    "            except:\n",
    "                print(\"HAAA\")"
   ]
  },
  {
   "cell_type": "code",
   "execution_count": 12,
   "metadata": {},
   "outputs": [
    {
     "name": "stderr",
     "output_type": "stream",
     "text": [
      "0it [00:00, ?it/s]"
     ]
    },
    {
     "name": "stderr",
     "output_type": "stream",
     "text": [
      "544it [01:18,  9.97it/s]"
     ]
    },
    {
     "name": "stdout",
     "output_type": "stream",
     "text": [
      "HAAA\n"
     ]
    },
    {
     "name": "stderr",
     "output_type": "stream",
     "text": [
      "548it [01:19, 11.99it/s]"
     ]
    },
    {
     "name": "stdout",
     "output_type": "stream",
     "text": [
      "HAAA\n"
     ]
    },
    {
     "name": "stderr",
     "output_type": "stream",
     "text": [
      "561it [01:20, 10.16it/s]"
     ]
    },
    {
     "name": "stdout",
     "output_type": "stream",
     "text": [
      "HAAA\n"
     ]
    },
    {
     "name": "stderr",
     "output_type": "stream",
     "text": [
      "600it [01:24, 19.28it/s]"
     ]
    },
    {
     "name": "stdout",
     "output_type": "stream",
     "text": [
      "HAAA\n",
      "HAAA\n",
      "HAAA\n",
      "HAAA\n",
      "HAAA\n",
      "HAAA\n"
     ]
    },
    {
     "name": "stderr",
     "output_type": "stream",
     "text": [
      "608it [01:25, 13.89it/s]"
     ]
    },
    {
     "name": "stdout",
     "output_type": "stream",
     "text": [
      "HAAA\n",
      "HAAA\n",
      "HAAA\n"
     ]
    },
    {
     "name": "stderr",
     "output_type": "stream",
     "text": [
      "614it [01:26, 10.48it/s]"
     ]
    },
    {
     "name": "stdout",
     "output_type": "stream",
     "text": [
      "HAAA\n",
      "HAAA\n"
     ]
    },
    {
     "name": "stderr",
     "output_type": "stream",
     "text": [
      "1014it [02:26, 10.19it/s]"
     ]
    },
    {
     "name": "stdout",
     "output_type": "stream",
     "text": [
      "HAAA\n"
     ]
    },
    {
     "name": "stderr",
     "output_type": "stream",
     "text": [
      "1063it [02:33, 19.96it/s]"
     ]
    },
    {
     "name": "stdout",
     "output_type": "stream",
     "text": [
      "HAAA\n",
      "HAAA\n",
      "HAAA\n",
      "HAAA\n",
      "HAAA\n",
      "HAAA\n",
      "HAAA\n"
     ]
    },
    {
     "name": "stderr",
     "output_type": "stream",
     "text": [
      "1065it [02:33, 19.80it/s]"
     ]
    },
    {
     "name": "stdout",
     "output_type": "stream",
     "text": [
      "HAAA\n",
      "HAAA\n",
      "HAAA\n",
      "HAAA\n",
      "HAAA\n",
      "HAAA\n",
      "HAAA\n"
     ]
    },
    {
     "name": "stderr",
     "output_type": "stream",
     "text": [
      "2300it [05:24,  7.25it/s]"
     ]
    },
    {
     "name": "stdout",
     "output_type": "stream",
     "text": [
      "HAAA\n",
      "HAAA\n"
     ]
    },
    {
     "name": "stderr",
     "output_type": "stream",
     "text": [
      "2356it [05:31,  8.94it/s]"
     ]
    },
    {
     "name": "stdout",
     "output_type": "stream",
     "text": [
      "HAAA\n"
     ]
    },
    {
     "name": "stderr",
     "output_type": "stream",
     "text": [
      "2412it [05:40,  9.24it/s]"
     ]
    },
    {
     "name": "stdout",
     "output_type": "stream",
     "text": [
      "HAAA\n",
      "HAAA\n"
     ]
    },
    {
     "name": "stderr",
     "output_type": "stream",
     "text": [
      "2421it [05:41,  9.75it/s]"
     ]
    },
    {
     "name": "stdout",
     "output_type": "stream",
     "text": [
      "HAAA\n",
      "HAAA\n",
      "HAAA\n",
      "HAAA\n",
      "HAAA\n",
      "HAAA\n",
      "HAAA\n"
     ]
    },
    {
     "name": "stderr",
     "output_type": "stream",
     "text": [
      "2432it [05:41, 13.99it/s]"
     ]
    },
    {
     "name": "stdout",
     "output_type": "stream",
     "text": [
      "HAAA\n",
      "HAAA\n"
     ]
    },
    {
     "name": "stderr",
     "output_type": "stream",
     "text": [
      "2783it [06:34,  8.25it/s]"
     ]
    },
    {
     "name": "stdout",
     "output_type": "stream",
     "text": [
      "HAAA\n"
     ]
    },
    {
     "name": "stderr",
     "output_type": "stream",
     "text": [
      "2788it [06:34, 12.67it/s]"
     ]
    },
    {
     "name": "stdout",
     "output_type": "stream",
     "text": [
      "HAAA\n",
      "HAAA\n",
      "HAAA\n"
     ]
    },
    {
     "name": "stderr",
     "output_type": "stream",
     "text": [
      "2800it [06:35, 16.56it/s]"
     ]
    },
    {
     "name": "stdout",
     "output_type": "stream",
     "text": [
      "HAAA\n",
      "HAAA\n",
      "HAAA\n",
      "HAAA\n",
      "HAAA\n",
      "HAAA\n"
     ]
    },
    {
     "name": "stderr",
     "output_type": "stream",
     "text": [
      "3927it [09:14, 11.15it/s]"
     ]
    },
    {
     "name": "stdout",
     "output_type": "stream",
     "text": [
      "HAAA\n"
     ]
    },
    {
     "name": "stderr",
     "output_type": "stream",
     "text": [
      "4996it [11:43,  9.12it/s]"
     ]
    },
    {
     "name": "stdout",
     "output_type": "stream",
     "text": [
      "HAAA\n",
      "HAAA\n"
     ]
    },
    {
     "name": "stderr",
     "output_type": "stream",
     "text": [
      "5016it [11:46, 10.36it/s]"
     ]
    },
    {
     "name": "stdout",
     "output_type": "stream",
     "text": [
      "HAAA\n"
     ]
    },
    {
     "name": "stderr",
     "output_type": "stream",
     "text": [
      "5020it [11:46, 11.35it/s]"
     ]
    },
    {
     "name": "stdout",
     "output_type": "stream",
     "text": [
      "HAAA\n"
     ]
    },
    {
     "name": "stderr",
     "output_type": "stream",
     "text": [
      "5026it [11:47,  8.67it/s]"
     ]
    },
    {
     "name": "stdout",
     "output_type": "stream",
     "text": [
      "HAAA\n"
     ]
    },
    {
     "name": "stderr",
     "output_type": "stream",
     "text": [
      "5039it [11:49,  8.09it/s]"
     ]
    },
    {
     "name": "stdout",
     "output_type": "stream",
     "text": [
      "HAAA\n"
     ]
    },
    {
     "name": "stderr",
     "output_type": "stream",
     "text": [
      "5067it [11:52, 11.73it/s]"
     ]
    },
    {
     "name": "stdout",
     "output_type": "stream",
     "text": [
      "HAAA\n"
     ]
    },
    {
     "name": "stderr",
     "output_type": "stream",
     "text": [
      "5647it [13:10, 11.09it/s]"
     ]
    },
    {
     "name": "stdout",
     "output_type": "stream",
     "text": [
      "HAAA\n",
      "HAAA\n"
     ]
    },
    {
     "name": "stderr",
     "output_type": "stream",
     "text": [
      "14795it [26:20, 45.61it/s]  "
     ]
    },
    {
     "name": "stdout",
     "output_type": "stream",
     "text": [
      "HAAA\n",
      "HAAA\n"
     ]
    },
    {
     "name": "stderr",
     "output_type": "stream",
     "text": [
      "22272it [30:12, 69.22it/s] "
     ]
    },
    {
     "name": "stdout",
     "output_type": "stream",
     "text": [
      "HAAA\n"
     ]
    },
    {
     "name": "stderr",
     "output_type": "stream",
     "text": [
      "36781it [35:17, 17.37it/s] \n"
     ]
    }
   ],
   "source": [
    "saveImage(all,'COCO1/images/valid/', novel1)\n",
    "# saveImage(all,'COOC2/images/val/', novel2)\n",
    "# saveImage(all,'COOC3/images/val/', novel3)\n",
    "# saveImage(all,'COOC4/images/val/', novel4)"
   ]
  },
  {
   "cell_type": "code",
   "execution_count": 13,
   "metadata": {},
   "outputs": [],
   "source": [
    "with open('COCO1/data.yaml', 'wt') as f:\n",
    "    f.write('train: images/train \\n')\n",
    "    f.write('val: images/valid \\n')\n",
    "    f.write('support: supports \\n')\n",
    "    f.write(' \\n')\n",
    "    f.write('nc: '+str(80)+'\\n')"
   ]
  },
  {
   "cell_type": "markdown",
   "metadata": {},
   "source": [
    "# Base on DANA support IMAGE"
   ]
  },
  {
   "cell_type": "code",
   "execution_count": null,
   "metadata": {},
   "outputs": [],
   "source": [
    "#!wget -O support.zip \"https://drive.google.com/uc?export=download&id=1nl9-DEpBBJ5w6hxVdijY6hFxoQdz8aso&confirm=yes\"\n",
    "\n",
    "!wget -O support.zip 'https://drive.usercontent.google.com/download?id=1nl9-DEpBBJ5w6hxVdijY6hFxoQdz8aso&export=download&authuser=0&confirm=yes'"
   ]
  },
  {
   "cell_type": "code",
   "execution_count": null,
   "metadata": {},
   "outputs": [],
   "source": [
    "!unzip support.zip"
   ]
  },
  {
   "cell_type": "code",
   "execution_count": 70,
   "metadata": {},
   "outputs": [],
   "source": [
    "# !rm -rf support.zip"
   ]
  },
  {
   "cell_type": "code",
   "execution_count": 71,
   "metadata": {},
   "outputs": [],
   "source": [
    "# !rm -rf supports"
   ]
  },
  {
   "cell_type": "code",
   "execution_count": null,
   "metadata": {},
   "outputs": [],
   "source": [
    "import matplotlib.pyplot as plt\n",
    "import seaborn as sns\n",
    "from tqdm import tqdm\n",
    "import glob\n",
    "\n",
    "a = []\n",
    "\n",
    "for year, image_set in ('2017', 'train'), ('2017', 'val'):\n",
    "    lbs_path = dir / 'labels' / f'{image_set}{year}/*'\n",
    "\n",
    "    for i in tqdm(glob.glob(str(lbs_path))):\n",
    "        with open(i,'+r') as f:\n",
    "            info = f.read().strip().split()\n",
    "            size = len(info)\n",
    "            for y in range(0,size,5):\n",
    "                inf = info[y:y+5]\n",
    "                a.append(inf[0])   \n",
    "\n",
    "count = {i:a.count(str(i)) for i in range(0,80)}\n",
    "print(len(count))\n",
    "\n",
    "plt.figure()\n",
    "sns.barplot(x=range(0,80),y=count.values())\n",
    "plt.show()"
   ]
  }
 ],
 "metadata": {
  "kernelspec": {
   "display_name": "RPC",
   "language": "python",
   "name": "python3"
  },
  "language_info": {
   "codemirror_mode": {
    "name": "ipython",
    "version": 3
   },
   "file_extension": ".py",
   "mimetype": "text/x-python",
   "name": "python",
   "nbconvert_exporter": "python",
   "pygments_lexer": "ipython3",
   "version": "3.10.8"
  },
  "orig_nbformat": 4
 },
 "nbformat": 4,
 "nbformat_minor": 2
}
